{
 "cells": [
  {
   "cell_type": "code",
   "execution_count": 182,
   "metadata": {},
   "outputs": [
    {
     "name": "stdout",
     "output_type": "stream",
     "text": "X Shape: (15579, 50, 50)\ny Shape: (15579,)\ny_text: restaurant\n"
    },
    {
     "data": {
      "text/plain": "(50, 50)"
     },
     "execution_count": 182,
     "metadata": {},
     "output_type": "execute_result"
    }
   ],
   "source": [
    "import numpy as np \n",
    "X = np.load('X.npy', allow_pickle=False)\n",
    "X = np.array(X)\n",
    "y_text = np.load('y.npy', allow_pickle=False)\n",
    "y_text = np.array(y_text)\n",
    "\n",
    "\n",
    "print(\"X Shape:\", X.shape)\n",
    "print(\"y Shape:\", y_text.shape)\n",
    "print(\"y_text:\", y_text[1000])\n",
    "X.shape[1:]"
   ]
  },
  {
   "cell_type": "code",
   "execution_count": 183,
   "metadata": {},
   "outputs": [
    {
     "name": "stdout",
     "output_type": "stream",
     "text": "y: [0 0 0 0 0 0 0 0 0 0 0 0 0 0 0 0 0 0 0 0 0 0 0 0 0 0 0 0 0 0 0 0 0 0 0 0 0\n 0 0 0 0 0 0 0 0 0 0 0 0 0 0 0 0 0 1 0 0 0 0 0 0 0 0 0 0 0 0]\nrestaurant\n"
    }
   ],
   "source": [
    "from sklearn.preprocessing import LabelBinarizer\n",
    "# Encode the 67 categories into binary numbers\n",
    "encoder = LabelBinarizer()\n",
    "y = encoder.fit_transform(y_text)\n",
    "print(\"y:\", y[1000])\n",
    "# Sample to decode the binary encoding\n",
    "inverse = encoder.inverse_transform(y)\n",
    "print(inverse[1000])"
   ]
  },
  {
   "cell_type": "code",
   "execution_count": 184,
   "metadata": {},
   "outputs": [],
   "source": [
    "from sklearn.model_selection import train_test_split\n",
    "X_train, X_test, y_train, y_test = train_test_split(X, y, random_state=1, stratify=y)"
   ]
  },
  {
   "cell_type": "code",
   "execution_count": 185,
   "metadata": {},
   "outputs": [
    {
     "name": "stdout",
     "output_type": "stream",
     "text": "[0 0 0 0 0 0 0 0 0 1 0 0 0 0 0 0 0 0 0 0 0 0 0 0 0 0 0 0 0 0 0 0 0 0 0 0 0\n 0 0 0 0 0 0 0 0 0 0 0 0 0 0 0 0 0 0 0 0 0 0 0 0 0 0 0 0 0 0]\n[0 0 0 0 0 0 0 0 0 0 0 0 0 0 0 0 0 0 0 0 0 0 0 0 0 0 0 0 0 0 0 0 0 0 0 0 0\n 1 0 0 0 0 0 0 0 0 0 0 0 0 0 0 0 0 0 0 0 0 0 0 0 0 0 0 0 0 0]\nX_train Shape: (11684, 50, 50)\ny_train Shape: (11684, 67)\nX_test Shape: (3895, 50, 50)\ny_test Shape: (3895, 67)\n"
    }
   ],
   "source": [
    "print(y_train[0])\n",
    "print(y_train[1])\n",
    "print(\"X_train Shape:\", X_train.shape)\n",
    "print(\"y_train Shape:\", y_train.shape)\n",
    "print(\"X_test Shape:\", X_test.shape)\n",
    "print(\"y_test Shape:\", y_test.shape)"
   ]
  },
  {
   "cell_type": "code",
   "execution_count": 186,
   "metadata": {},
   "outputs": [
    {
     "data": {
      "text/plain": "array([[[ 15,  13,   9, ...,  78,  81,  61],\n        [ 31,  21,  21, ...,  75,  69,  58],\n        [ 70,  41,  42, ...,  96,  61,  59],\n        ...,\n        [ 37,  52,  55, ..., 143, 135, 154],\n        [ 29,  35,  58, ..., 188, 147, 159],\n        [ 29,  32,  36, ..., 208, 155, 185]],\n\n       [[119, 122, 125, ..., 107, 102, 105],\n        [115, 115, 123, ...,  54,  57,  86],\n        [116, 117, 123, ...,  77,  75,  69],\n        ...,\n        [  6,  13,  35, ..., 145, 137, 141],\n        [  6,  28,  43, ..., 144, 133, 138],\n        [ 18,  42,  56, ..., 134, 123, 124]],\n\n       [[254, 255, 197, ..., 145, 145, 143],\n        [198, 249, 255, ..., 144, 143, 141],\n        [253, 250, 255, ..., 144, 142, 142],\n        ...,\n        [ 78,  76,  78, ...,  78,  70,  72],\n        [ 87,  80,  81, ...,  83,  69,  69],\n        [ 82,  76,  87, ...,  87,  67,  40]],\n\n       ...,\n\n       [[ 74,  76,  75, ...,  19,  23,  78],\n        [ 48,  79,  79, ...,  85,  78,  72],\n        [ 74,  80,  84, ...,  86,  76,  78],\n        ...,\n        [ 23,  24,  31, ...,   5,   7,   8],\n        [ 23,  22,  29, ...,   8,   7,   8],\n        [ 25,  22,  29, ...,   9,   9,  13]],\n\n       [[ 40,  31,  34, ...,  17,   0,  14],\n        [ 98, 136, 138, ...,  23,   8,  13],\n        [118, 120, 124, ...,  30,  18,   3],\n        ...,\n        [130,  91, 109, ...,   5, 163, 161],\n        [104, 110, 103, ...,  72,  66,  78],\n        [118,  25,   1, ...,  78, 111,  87]],\n\n       [[ 40,  38,  39, ...,  34,  37,  32],\n        [ 41,  24,  36, ...,  72,  75, 112],\n        [244, 132, 117, ...,  71,  71,  70],\n        ...,\n        [111, 106,  75, ...,  80,  94, 167],\n        [ 95,  71,  85, ...,  95, 116, 145],\n        [ 89,  65,  57, ...,  87, 159, 139]]], dtype=uint8)"
     },
     "execution_count": 186,
     "metadata": {},
     "output_type": "execute_result"
    }
   ],
   "source": [
    "X_train"
   ]
  },
  {
   "cell_type": "code",
   "execution_count": 187,
   "metadata": {},
   "outputs": [],
   "source": [
    "X_train = X_train.reshape(11684,50,50,1)\n",
    "X_test = X_test.reshape(3895,50,50,1)"
   ]
  },
  {
   "cell_type": "code",
   "execution_count": 188,
   "metadata": {},
   "outputs": [],
   "source": [
    "from keras.models import Sequential\n",
    "from keras.layers import Dense, Flatten, Conv2D, MaxPooling2D\n",
    "model = Sequential()"
   ]
  },
  {
   "cell_type": "code",
   "execution_count": 189,
   "metadata": {},
   "outputs": [],
   "source": [
    "model.add(Conv2D(32, (5, 5), activation='relu', input_shape=(50,50,1)))"
   ]
  },
  {
   "cell_type": "code",
   "execution_count": 190,
   "metadata": {},
   "outputs": [],
   "source": [
    "model.add(MaxPooling2D(pool_size=(2, 2)))"
   ]
  },
  {
   "cell_type": "code",
   "execution_count": 191,
   "metadata": {},
   "outputs": [],
   "source": [
    "model.add(Conv2D(64, (5, 5), activation='relu'))\n",
    "model.add(MaxPooling2D(pool_size=(2, 2)))"
   ]
  },
  {
   "cell_type": "code",
   "execution_count": 192,
   "metadata": {},
   "outputs": [],
   "source": [
    "model.add(Flatten())"
   ]
  },
  {
   "cell_type": "code",
   "execution_count": 193,
   "metadata": {},
   "outputs": [],
   "source": [
    "model.add(Dense(1000, activation='relu'))"
   ]
  },
  {
   "cell_type": "code",
   "execution_count": 194,
   "metadata": {},
   "outputs": [],
   "source": [
    "model.add(Dense(67, activation='softmax'))"
   ]
  },
  {
   "cell_type": "code",
   "execution_count": 195,
   "metadata": {},
   "outputs": [],
   "source": [
    "model.compile(loss='categorical_crossentropy', \n",
    "              optimizer='adam',\n",
    "              metrics=['accuracy'])"
   ]
  },
  {
   "cell_type": "code",
   "execution_count": 196,
   "metadata": {},
   "outputs": [
    {
     "name": "stdout",
     "output_type": "stream",
     "text": "Model: \"sequential_7\"\n_________________________________________________________________\nLayer (type)                 Output Shape              Param #   \n=================================================================\nconv2d_13 (Conv2D)           (None, 46, 46, 32)        832       \n_________________________________________________________________\nmax_pooling2d_13 (MaxPooling (None, 23, 23, 32)        0         \n_________________________________________________________________\nconv2d_14 (Conv2D)           (None, 19, 19, 64)        51264     \n_________________________________________________________________\nmax_pooling2d_14 (MaxPooling (None, 9, 9, 64)          0         \n_________________________________________________________________\nflatten_7 (Flatten)          (None, 5184)              0         \n_________________________________________________________________\ndense_13 (Dense)             (None, 1000)              5185000   \n_________________________________________________________________\ndense_14 (Dense)             (None, 67)                67067     \n=================================================================\nTotal params: 5,304,163\nTrainable params: 5,304,163\nNon-trainable params: 0\n_________________________________________________________________\n"
    }
   ],
   "source": [
    "# We can summarize our model\n",
    "model.summary()"
   ]
  },
  {
   "cell_type": "code",
   "execution_count": 197,
   "metadata": {},
   "outputs": [
    {
     "name": "stdout",
     "output_type": "stream",
     "text": "Train on 11567 samples, validate on 117 samples\nEpoch 1/10\n11567/11567 [==============================] - 42s 4ms/step - loss: 10.0250 - accuracy: 0.0455 - val_loss: 4.0397 - val_accuracy: 0.0598\nEpoch 2/10\n11567/11567 [==============================] - 45s 4ms/step - loss: 3.8775 - accuracy: 0.0863 - val_loss: 4.0026 - val_accuracy: 0.0940\nEpoch 3/10\n11567/11567 [==============================] - 52s 4ms/step - loss: 3.6560 - accuracy: 0.1208 - val_loss: 4.0210 - val_accuracy: 0.0684\nEpoch 4/10\n11567/11567 [==============================] - 66s 6ms/step - loss: 3.3364 - accuracy: 0.1800 - val_loss: 4.2436 - val_accuracy: 0.0513\nEpoch 5/10\n11567/11567 [==============================] - 61s 5ms/step - loss: 2.9380 - accuracy: 0.2654 - val_loss: 4.3829 - val_accuracy: 0.0855\nEpoch 6/10\n11567/11567 [==============================] - 50s 4ms/step - loss: 2.4527 - accuracy: 0.3743 - val_loss: 4.9149 - val_accuracy: 0.1026\nEpoch 7/10\n11567/11567 [==============================] - 47s 4ms/step - loss: 1.9616 - accuracy: 0.4991 - val_loss: 5.4059 - val_accuracy: 0.0684\nEpoch 8/10\n11567/11567 [==============================] - 47s 4ms/step - loss: 1.4505 - accuracy: 0.6274 - val_loss: 5.7396 - val_accuracy: 0.0769\nEpoch 9/10\n11567/11567 [==============================] - 41s 4ms/step - loss: 1.0412 - accuracy: 0.7389 - val_loss: 6.4704 - val_accuracy: 0.0598\nEpoch 10/10\n11567/11567 [==============================] - 45s 4ms/step - loss: 0.7488 - accuracy: 0.8152 - val_loss: 6.7142 - val_accuracy: 0.0855\n"
    }
   ],
   "source": [
    "hist = model.fit(X_train, y_train, \n",
    "           batch_size=256, epochs=10, validation_split=0.01)"
   ]
  },
  {
   "cell_type": "code",
   "execution_count": 198,
   "metadata": {},
   "outputs": [
    {
     "name": "stdout",
     "output_type": "stream",
     "text": "3895/3895 [==============================] - 5s 1ms/step\n"
    },
    {
     "data": {
      "text/plain": "0.08575095981359482"
     },
     "execution_count": 198,
     "metadata": {},
     "output_type": "execute_result"
    }
   ],
   "source": [
    "model.evaluate(X_test, y_test)[1]"
   ]
  },
  {
   "cell_type": "code",
   "execution_count": 199,
   "metadata": {},
   "outputs": [
    {
     "name": "stdout",
     "output_type": "stream",
     "text": "Model: \"sequential_7\"\n_________________________________________________________________\nLayer (type)                 Output Shape              Param #   \n=================================================================\nconv2d_13 (Conv2D)           (None, 46, 46, 32)        832       \n_________________________________________________________________\nmax_pooling2d_13 (MaxPooling (None, 23, 23, 32)        0         \n_________________________________________________________________\nconv2d_14 (Conv2D)           (None, 19, 19, 64)        51264     \n_________________________________________________________________\nmax_pooling2d_14 (MaxPooling (None, 9, 9, 64)          0         \n_________________________________________________________________\nflatten_7 (Flatten)          (None, 5184)              0         \n_________________________________________________________________\ndense_13 (Dense)             (None, 1000)              5185000   \n_________________________________________________________________\ndense_14 (Dense)             (None, 67)                67067     \n=================================================================\nTotal params: 5,304,163\nTrainable params: 5,304,163\nNon-trainable params: 0\n_________________________________________________________________\n"
    }
   ],
   "source": [
    "# We can summarize our model\n",
    "model.summary()"
   ]
  },
  {
   "cell_type": "code",
   "execution_count": 200,
   "metadata": {},
   "outputs": [],
   "source": [
    "from keras import models\n",
    "model.save('my_model.h5') "
   ]
  },
  {
   "cell_type": "code",
   "execution_count": 201,
   "metadata": {},
   "outputs": [],
   "source": [
    "from tensorflow.keras.models import load_model\n",
    "model = load_model(\"my_model.h5\")"
   ]
  },
  {
   "cell_type": "code",
   "execution_count": null,
   "metadata": {},
   "outputs": [],
   "source": []
  },
  {
   "cell_type": "code",
   "execution_count": 202,
   "metadata": {},
   "outputs": [],
   "source": [
    "import cv2\n",
    "filepath = './test_image/1.jpg'\n",
    "image_size = 50\n",
    "LR = 1e-3\n",
    "# img = cv2.imread(filepath, cv2.IMREAD_GRAYSCALE) \n",
    "img = cv2.imread(filepath, 0) \n",
    "img = cv2.resize(img, (image_size, image_size))\n",
    "img = img.reshape(1,50,50,1)"
   ]
  },
  {
   "cell_type": "code",
   "execution_count": 203,
   "metadata": {},
   "outputs": [
    {
     "data": {
      "text/plain": "array([19])"
     },
     "execution_count": 203,
     "metadata": {},
     "output_type": "execute_result"
    }
   ],
   "source": [
    "prediction = model.predict_classes(img)\n",
    "prediction"
   ]
  },
  {
   "cell_type": "code",
   "execution_count": 204,
   "metadata": {},
   "outputs": [
    {
     "name": "stdout",
     "output_type": "stream",
     "text": "3895/3895 - 4s - loss: 6.6746 - accuracy: 0.0858\nLoss: 6.67456125717261, Accuracy: 0.08575095981359482\n"
    }
   ],
   "source": [
    "# Evaluate the model using the training data \n",
    "model_loss, model_accuracy = model.evaluate(X_test, y_test, verbose=2)\n",
    "print(f\"Loss: {model_loss}, Accuracy: {model_accuracy}\")"
   ]
  },
  {
   "cell_type": "code",
   "execution_count": null,
   "metadata": {},
   "outputs": [],
   "source": []
  }
 ],
 "metadata": {
  "kernelspec": {
   "display_name": "Python 3.7.3 64-bit",
   "language": "python",
   "name": "python37364bit230750f2ffa44fbfaec87aca222121f5"
  },
  "language_info": {
   "codemirror_mode": {
    "name": "ipython",
    "version": 3
   },
   "file_extension": ".py",
   "mimetype": "text/x-python",
   "name": "python",
   "nbconvert_exporter": "python",
   "pygments_lexer": "ipython3",
   "version": "3.7.3-final"
  }
 },
 "nbformat": 4,
 "nbformat_minor": 2
}