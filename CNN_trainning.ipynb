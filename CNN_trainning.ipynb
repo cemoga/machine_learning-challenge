{
 "cells": [
  {
   "cell_type": "code",
   "execution_count": 18,
   "metadata": {},
   "outputs": [
    {
     "name": "stdout",
     "output_type": "stream",
     "text": "X Shape: (15579, 50, 50)\ny Shape: (15579,)\ny_text: restaurant\n"
    }
   ],
   "source": [
    "import numpy as np \n",
    "X = np.load('X.npy', allow_pickle=False)\n",
    "y_text = np.load('y.npy', allow_pickle=False)\n",
    "print(\"X Shape:\", X.shape)\n",
    "print(\"y Shape:\", y_text.shape)\n",
    "print(\"y_text:\", y_text[1000])"
   ]
  },
  {
   "cell_type": "code",
   "execution_count": 19,
   "metadata": {},
   "outputs": [
    {
     "name": "stdout",
     "output_type": "stream",
     "text": "y: [0 0 0 0 0 0 0 0 0 0 0 0 0 0 0 0 0 0 0 0 0 0 0 0 0 0 0 0 0 0 0 0 0 0 0 0 0\n 0 0 0 0 0 0 0 0 0 0 0 0 0 0 0 0 0 1 0 0 0 0 0 0 0 0 0 0 0 0]\nrestaurant\n"
    }
   ],
   "source": [
    "from sklearn.preprocessing import LabelBinarizer\n",
    "# Encode the 67 categories into binary numbers\n",
    "encoder = LabelBinarizer()\n",
    "y = encoder.fit_transform(y_text)\n",
    "print(\"y:\", y[1000])\n",
    "# Sample to decode the binary encoding\n",
    "inverse = encoder.inverse_transform(y)\n",
    "print(inverse[1000])"
   ]
  },
  {
   "cell_type": "code",
   "execution_count": 20,
   "metadata": {},
   "outputs": [],
   "source": [
    "from sklearn.model_selection import train_test_split\n",
    "X_train, X_test, y_train, y_test = train_test_split(X, y, random_state=1, stratify=y)"
   ]
  },
  {
   "cell_type": "code",
   "execution_count": 21,
   "metadata": {},
   "outputs": [],
   "source": [
    "# import the necessary packages\n",
    "from keras.optimizers import Adam\n",
    "# import the necessary packages\n",
    "from keras.preprocessing.image import ImageDataGenerator\n",
    "from keras.optimizers import Adam\n",
    "from sklearn.model_selection import train_test_split\n",
    "from keras.preprocessing.image import img_to_array\n",
    "from keras.utils import to_categorical\n",
    "\n",
    "\n",
    "import matplotlib.pyplot as plt\n",
    "import numpy as np\n",
    "import argparse\n",
    "import random\n",
    "import cv2\n",
    "import os"
   ]
  },
  {
   "cell_type": "code",
   "execution_count": 22,
   "metadata": {},
   "outputs": [],
   "source": [
    "# Importing the Keras libraries and packages\n",
    "from keras.models import Sequential\n",
    "from keras.layers import Conv2D\n",
    "from keras.layers import MaxPooling2D\n",
    "from keras.layers import Flatten\n",
    "from keras.layers import Dense"
   ]
  },
  {
   "cell_type": "code",
   "execution_count": 23,
   "metadata": {},
   "outputs": [],
   "source": [
    "model = Sequential()"
   ]
  },
  {
   "cell_type": "code",
   "execution_count": 24,
   "metadata": {},
   "outputs": [],
   "source": [
    "# model.add(Conv2D(32, (3, 3), input_shape = (64, 64, 3), activation = 'relu'))"
   ]
  },
  {
   "cell_type": "code",
   "execution_count": 25,
   "metadata": {},
   "outputs": [],
   "source": [
    "# model.add(MaxPooling2D(pool_size = (2, 2)))"
   ]
  },
  {
   "cell_type": "code",
   "execution_count": 26,
   "metadata": {},
   "outputs": [],
   "source": [
    "model.add(Flatten())"
   ]
  },
  {
   "cell_type": "code",
   "execution_count": 27,
   "metadata": {},
   "outputs": [],
   "source": [
    "model.add(Dense(units = 128, activation = 'relu'))"
   ]
  },
  {
   "cell_type": "code",
   "execution_count": 28,
   "metadata": {},
   "outputs": [],
   "source": [
    "model.add(Dense(units = 67, activation = 'sigmoid'))"
   ]
  },
  {
   "cell_type": "code",
   "execution_count": 29,
   "metadata": {},
   "outputs": [],
   "source": [
    "model.compile(optimizer = 'adam', loss = 'binary_crossentropy', metrics = ['accuracy'])"
   ]
  },
  {
   "cell_type": "code",
   "execution_count": 30,
   "metadata": {},
   "outputs": [
    {
     "name": "stdout",
     "output_type": "stream",
     "text": "Train on 11684 samples, validate on 3895 samples\nEpoch 1/100\n11684/11684 [==============================] - 4s 323us/step - loss: 1.9309 - accuracy: 0.9639 - val_loss: 0.9914 - val_accuracy: 0.9503\nEpoch 2/100\n11684/11684 [==============================] - 3s 263us/step - loss: 0.5600 - accuracy: 0.9642 - val_loss: 0.4395 - val_accuracy: 0.9253\nEpoch 3/100\n11684/11684 [==============================] - 3s 246us/step - loss: 0.2179 - accuracy: 0.9734 - val_loss: 0.2695 - val_accuracy: 0.9239\nEpoch 4/100\n11684/11684 [==============================] - 3s 252us/step - loss: 0.1276 - accuracy: 0.9811 - val_loss: 0.1123 - val_accuracy: 0.9829\nEpoch 5/100\n11684/11684 [==============================] - 3s 251us/step - loss: 0.0967 - accuracy: 0.9837 - val_loss: 0.0970 - val_accuracy: 0.9827\nEpoch 6/100\n11684/11684 [==============================] - 3s 248us/step - loss: 0.0882 - accuracy: 0.9847 - val_loss: 0.0899 - val_accuracy: 0.9842\nEpoch 7/100\n11684/11684 [==============================] - 3s 254us/step - loss: 0.0853 - accuracy: 0.9850 - val_loss: 0.0874 - val_accuracy: 0.9846\nEpoch 8/100\n11684/11684 [==============================] - 3s 283us/step - loss: 0.0840 - accuracy: 0.9851 - val_loss: 0.0859 - val_accuracy: 0.9847\nEpoch 9/100\n11684/11684 [==============================] - 3s 274us/step - loss: 0.0833 - accuracy: 0.9851 - val_loss: 0.0862 - val_accuracy: 0.9848\nEpoch 10/100\n11684/11684 [==============================] - 3s 284us/step - loss: 0.0829 - accuracy: 0.9851 - val_loss: 0.0855 - val_accuracy: 0.9848\nEpoch 11/100\n11684/11684 [==============================] - 3s 295us/step - loss: 0.0822 - accuracy: 0.9851 - val_loss: 0.0836 - val_accuracy: 0.9848\nEpoch 12/100\n11684/11684 [==============================] - 3s 261us/step - loss: 0.0813 - accuracy: 0.9851 - val_loss: 0.0818 - val_accuracy: 0.9848\nEpoch 13/100\n11684/11684 [==============================] - 3s 288us/step - loss: 0.0805 - accuracy: 0.9851 - val_loss: 0.0833 - val_accuracy: 0.9848\nEpoch 14/100\n11684/11684 [==============================] - 3s 258us/step - loss: 0.0801 - accuracy: 0.9851 - val_loss: 0.0821 - val_accuracy: 0.9848\nEpoch 15/100\n11684/11684 [==============================] - 3s 270us/step - loss: 0.0797 - accuracy: 0.9851 - val_loss: 0.0810 - val_accuracy: 0.9849\nEpoch 16/100\n11684/11684 [==============================] - 3s 252us/step - loss: 0.0796 - accuracy: 0.9851 - val_loss: 0.0819 - val_accuracy: 0.9849\nEpoch 17/100\n11684/11684 [==============================] - 3s 272us/step - loss: 0.0795 - accuracy: 0.9851 - val_loss: 0.0808 - val_accuracy: 0.9849\nEpoch 18/100\n11684/11684 [==============================] - 3s 269us/step - loss: 0.0790 - accuracy: 0.9851 - val_loss: 0.0820 - val_accuracy: 0.9849\nEpoch 19/100\n11684/11684 [==============================] - 3s 270us/step - loss: 0.0789 - accuracy: 0.9851 - val_loss: 0.0808 - val_accuracy: 0.9849\nEpoch 20/100\n11684/11684 [==============================] - 3s 265us/step - loss: 0.0789 - accuracy: 0.9851 - val_loss: 0.0833 - val_accuracy: 0.9849\nEpoch 21/100\n11684/11684 [==============================] - 3s 299us/step - loss: 0.0798 - accuracy: 0.9851 - val_loss: 0.1002 - val_accuracy: 0.9847\nEpoch 22/100\n11684/11684 [==============================] - 3s 277us/step - loss: 0.0795 - accuracy: 0.9851 - val_loss: 0.0825 - val_accuracy: 0.9848\nEpoch 23/100\n11684/11684 [==============================] - 3s 257us/step - loss: 0.0787 - accuracy: 0.9851 - val_loss: 0.0802 - val_accuracy: 0.9848\nEpoch 24/100\n11684/11684 [==============================] - 3s 262us/step - loss: 0.0793 - accuracy: 0.9851 - val_loss: 0.0809 - val_accuracy: 0.9848\nEpoch 25/100\n11684/11684 [==============================] - 4s 334us/step - loss: 0.0787 - accuracy: 0.9851 - val_loss: 0.0804 - val_accuracy: 0.9848\nEpoch 26/100\n11684/11684 [==============================] - 3s 294us/step - loss: 0.0786 - accuracy: 0.9851 - val_loss: 0.0829 - val_accuracy: 0.9848\nEpoch 27/100\n11684/11684 [==============================] - 4s 317us/step - loss: 0.0786 - accuracy: 0.9851 - val_loss: 0.0815 - val_accuracy: 0.9849\nEpoch 28/100\n11684/11684 [==============================] - 3s 276us/step - loss: 0.0784 - accuracy: 0.9851 - val_loss: 0.0802 - val_accuracy: 0.9848\nEpoch 29/100\n11684/11684 [==============================] - 3s 276us/step - loss: 0.0781 - accuracy: 0.9851 - val_loss: 0.0805 - val_accuracy: 0.9848\nEpoch 30/100\n11684/11684 [==============================] - 3s 261us/step - loss: 0.0781 - accuracy: 0.9851 - val_loss: 0.0799 - val_accuracy: 0.9848\nEpoch 31/100\n11684/11684 [==============================] - 3s 270us/step - loss: 0.0776 - accuracy: 0.9851 - val_loss: 0.0824 - val_accuracy: 0.9849\nEpoch 32/100\n11684/11684 [==============================] - 3s 293us/step - loss: 0.0777 - accuracy: 0.9851 - val_loss: 0.0791 - val_accuracy: 0.9848\nEpoch 33/100\n11684/11684 [==============================] - 3s 292us/step - loss: 0.0776 - accuracy: 0.9851 - val_loss: 0.0788 - val_accuracy: 0.9848\nEpoch 34/100\n11684/11684 [==============================] - 3s 273us/step - loss: 0.0773 - accuracy: 0.9851 - val_loss: 0.0805 - val_accuracy: 0.9848\nEpoch 35/100\n11684/11684 [==============================] - 3s 282us/step - loss: 0.0776 - accuracy: 0.9851 - val_loss: 0.0799 - val_accuracy: 0.9848\nEpoch 36/100\n11684/11684 [==============================] - 3s 271us/step - loss: 0.0772 - accuracy: 0.9851 - val_loss: 0.0783 - val_accuracy: 0.9848\nEpoch 37/100\n11684/11684 [==============================] - 3s 247us/step - loss: 0.0773 - accuracy: 0.9851 - val_loss: 0.0786 - val_accuracy: 0.9848\nEpoch 38/100\n11684/11684 [==============================] - 3s 244us/step - loss: 0.0769 - accuracy: 0.9851 - val_loss: 0.0785 - val_accuracy: 0.9848\nEpoch 39/100\n11684/11684 [==============================] - 3s 244us/step - loss: 0.0769 - accuracy: 0.9851 - val_loss: 0.0785 - val_accuracy: 0.9848\nEpoch 40/100\n11684/11684 [==============================] - 3s 278us/step - loss: 0.0771 - accuracy: 0.9851 - val_loss: 0.0779 - val_accuracy: 0.9848\nEpoch 41/100\n11684/11684 [==============================] - 3s 282us/step - loss: 0.0765 - accuracy: 0.9851 - val_loss: 0.0781 - val_accuracy: 0.9848\nEpoch 42/100\n11684/11684 [==============================] - 3s 262us/step - loss: 0.0765 - accuracy: 0.9851 - val_loss: 0.0789 - val_accuracy: 0.9848\nEpoch 43/100\n11684/11684 [==============================] - 3s 263us/step - loss: 0.0766 - accuracy: 0.9851 - val_loss: 0.0775 - val_accuracy: 0.9848\nEpoch 44/100\n11684/11684 [==============================] - 3s 266us/step - loss: 0.0763 - accuracy: 0.9851 - val_loss: 0.0786 - val_accuracy: 0.9848\nEpoch 45/100\n11684/11684 [==============================] - 3s 267us/step - loss: 0.0772 - accuracy: 0.9851 - val_loss: 0.0772 - val_accuracy: 0.9848\nEpoch 46/100\n11684/11684 [==============================] - 3s 272us/step - loss: 0.0761 - accuracy: 0.9851 - val_loss: 0.0772 - val_accuracy: 0.9848\nEpoch 47/100\n11684/11684 [==============================] - 3s 270us/step - loss: 0.0764 - accuracy: 0.9851 - val_loss: 0.0799 - val_accuracy: 0.9849\nEpoch 48/100\n11684/11684 [==============================] - 3s 259us/step - loss: 0.0760 - accuracy: 0.9851 - val_loss: 0.0777 - val_accuracy: 0.9848\nEpoch 49/100\n11684/11684 [==============================] - 3s 265us/step - loss: 0.0758 - accuracy: 0.9851 - val_loss: 0.0776 - val_accuracy: 0.9848\nEpoch 50/100\n11684/11684 [==============================] - 3s 273us/step - loss: 0.0757 - accuracy: 0.9851 - val_loss: 0.0770 - val_accuracy: 0.9848\nEpoch 51/100\n11684/11684 [==============================] - 3s 283us/step - loss: 0.0757 - accuracy: 0.9851 - val_loss: 0.0779 - val_accuracy: 0.9848\nEpoch 52/100\n11684/11684 [==============================] - 3s 281us/step - loss: 0.0758 - accuracy: 0.9851 - val_loss: 0.0811 - val_accuracy: 0.9848\nEpoch 53/100\n11684/11684 [==============================] - 4s 307us/step - loss: 0.0757 - accuracy: 0.9851 - val_loss: 0.0768 - val_accuracy: 0.9848\nEpoch 54/100\n11684/11684 [==============================] - 3s 285us/step - loss: 0.0757 - accuracy: 0.9851 - val_loss: 0.0771 - val_accuracy: 0.9848\nEpoch 55/100\n11684/11684 [==============================] - 3s 277us/step - loss: 0.0754 - accuracy: 0.9851 - val_loss: 0.0771 - val_accuracy: 0.9848\nEpoch 56/100\n11684/11684 [==============================] - 3s 288us/step - loss: 0.0755 - accuracy: 0.9851 - val_loss: 0.0766 - val_accuracy: 0.9848\nEpoch 57/100\n11684/11684 [==============================] - 4s 306us/step - loss: 0.0755 - accuracy: 0.9851 - val_loss: 0.0766 - val_accuracy: 0.9849\nEpoch 58/100\n11684/11684 [==============================] - 3s 293us/step - loss: 0.0756 - accuracy: 0.9851 - val_loss: 0.0763 - val_accuracy: 0.9848\nEpoch 59/100\n11684/11684 [==============================] - 3s 282us/step - loss: 0.0751 - accuracy: 0.9851 - val_loss: 0.0766 - val_accuracy: 0.9848\nEpoch 60/100\n11684/11684 [==============================] - 3s 276us/step - loss: 0.0755 - accuracy: 0.9851 - val_loss: 0.0774 - val_accuracy: 0.9849\nEpoch 61/100\n11684/11684 [==============================] - 3s 277us/step - loss: 0.0751 - accuracy: 0.9851 - val_loss: 0.0763 - val_accuracy: 0.9849\nEpoch 62/100\n11684/11684 [==============================] - 3s 280us/step - loss: 0.0753 - accuracy: 0.9851 - val_loss: 0.0768 - val_accuracy: 0.9848\nEpoch 63/100\n11684/11684 [==============================] - 3s 274us/step - loss: 0.0754 - accuracy: 0.9851 - val_loss: 0.0761 - val_accuracy: 0.9848\nEpoch 64/100\n11684/11684 [==============================] - 3s 287us/step - loss: 0.0751 - accuracy: 0.9851 - val_loss: 0.0788 - val_accuracy: 0.9848\nEpoch 65/100\n11684/11684 [==============================] - 3s 284us/step - loss: 0.0747 - accuracy: 0.9851 - val_loss: 0.0807 - val_accuracy: 0.9849\nEpoch 66/100\n11684/11684 [==============================] - 3s 274us/step - loss: 0.0750 - accuracy: 0.9851 - val_loss: 0.0776 - val_accuracy: 0.9849\nEpoch 67/100\n11684/11684 [==============================] - 4s 303us/step - loss: 0.0747 - accuracy: 0.9851 - val_loss: 0.0779 - val_accuracy: 0.9849\nEpoch 68/100\n11684/11684 [==============================] - 3s 278us/step - loss: 0.0749 - accuracy: 0.9851 - val_loss: 0.0774 - val_accuracy: 0.9848\nEpoch 69/100\n11684/11684 [==============================] - 3s 274us/step - loss: 0.0750 - accuracy: 0.9851 - val_loss: 0.0758 - val_accuracy: 0.9849\nEpoch 70/100\n11684/11684 [==============================] - 3s 273us/step - loss: 0.0744 - accuracy: 0.9851 - val_loss: 0.0777 - val_accuracy: 0.9849\nEpoch 71/100\n11684/11684 [==============================] - 3s 269us/step - loss: 0.0750 - accuracy: 0.9851 - val_loss: 0.0761 - val_accuracy: 0.9849\nEpoch 72/100\n11684/11684 [==============================] - 3s 275us/step - loss: 0.0747 - accuracy: 0.9851 - val_loss: 0.0758 - val_accuracy: 0.9848\nEpoch 73/100\n11684/11684 [==============================] - 3s 275us/step - loss: 0.0745 - accuracy: 0.9851 - val_loss: 0.0763 - val_accuracy: 0.9848\nEpoch 74/100\n11684/11684 [==============================] - 3s 276us/step - loss: 0.0743 - accuracy: 0.9851 - val_loss: 0.0773 - val_accuracy: 0.9848\nEpoch 75/100\n11684/11684 [==============================] - 3s 277us/step - loss: 0.0748 - accuracy: 0.9851 - val_loss: 0.0766 - val_accuracy: 0.9849\nEpoch 76/100\n11684/11684 [==============================] - 3s 261us/step - loss: 0.0745 - accuracy: 0.9851 - val_loss: 0.0762 - val_accuracy: 0.9849\nEpoch 77/100\n11684/11684 [==============================] - 3s 256us/step - loss: 0.0745 - accuracy: 0.9851 - val_loss: 0.0760 - val_accuracy: 0.9849\nEpoch 78/100\n11684/11684 [==============================] - 3s 260us/step - loss: 0.0743 - accuracy: 0.9851 - val_loss: 0.0759 - val_accuracy: 0.9848\nEpoch 79/100\n11684/11684 [==============================] - 3s 252us/step - loss: 0.0746 - accuracy: 0.9851 - val_loss: 0.0795 - val_accuracy: 0.9847\nEpoch 80/100\n11684/11684 [==============================] - 3s 256us/step - loss: 0.0742 - accuracy: 0.9851 - val_loss: 0.0758 - val_accuracy: 0.9848\nEpoch 81/100\n11684/11684 [==============================] - 3s 256us/step - loss: 0.0743 - accuracy: 0.9851 - val_loss: 0.0758 - val_accuracy: 0.9849\nEpoch 82/100\n11684/11684 [==============================] - 3s 256us/step - loss: 0.0740 - accuracy: 0.9851 - val_loss: 0.0761 - val_accuracy: 0.9849\nEpoch 83/100\n11684/11684 [==============================] - 3s 258us/step - loss: 0.0747 - accuracy: 0.9851 - val_loss: 0.0754 - val_accuracy: 0.9849\nEpoch 84/100\n11684/11684 [==============================] - 3s 257us/step - loss: 0.0740 - accuracy: 0.9851 - val_loss: 0.0756 - val_accuracy: 0.9849\nEpoch 85/100\n11684/11684 [==============================] - 3s 256us/step - loss: 0.0738 - accuracy: 0.9851 - val_loss: 0.0794 - val_accuracy: 0.9849\nEpoch 86/100\n11684/11684 [==============================] - 3s 257us/step - loss: 0.0745 - accuracy: 0.9851 - val_loss: 0.0775 - val_accuracy: 0.9849\nEpoch 87/100\n11684/11684 [==============================] - 3s 259us/step - loss: 0.0742 - accuracy: 0.9851 - val_loss: 0.0760 - val_accuracy: 0.9848\nEpoch 88/100\n11684/11684 [==============================] - 3s 255us/step - loss: 0.0738 - accuracy: 0.9851 - val_loss: 0.0973 - val_accuracy: 0.9806\nEpoch 89/100\n11684/11684 [==============================] - 3s 259us/step - loss: 0.0744 - accuracy: 0.9850 - val_loss: 0.0777 - val_accuracy: 0.9848\nEpoch 90/100\n11684/11684 [==============================] - 3s 259us/step - loss: 0.0742 - accuracy: 0.9851 - val_loss: 0.0761 - val_accuracy: 0.9849\nEpoch 91/100\n11684/11684 [==============================] - 3s 258us/step - loss: 0.0740 - accuracy: 0.9851 - val_loss: 0.0792 - val_accuracy: 0.9846\nEpoch 92/100\n11684/11684 [==============================] - 3s 258us/step - loss: 0.0739 - accuracy: 0.9851 - val_loss: 0.0783 - val_accuracy: 0.9846\nEpoch 93/100\n11684/11684 [==============================] - 3s 258us/step - loss: 0.0739 - accuracy: 0.9851 - val_loss: 0.0764 - val_accuracy: 0.9848\nEpoch 94/100\n11684/11684 [==============================] - 3s 256us/step - loss: 0.0737 - accuracy: 0.9851 - val_loss: 0.0774 - val_accuracy: 0.9849\nEpoch 95/100\n11684/11684 [==============================] - 3s 253us/step - loss: 0.0737 - accuracy: 0.9851 - val_loss: 0.0786 - val_accuracy: 0.9849\nEpoch 96/100\n11684/11684 [==============================] - 3s 256us/step - loss: 0.0738 - accuracy: 0.9851 - val_loss: 0.0759 - val_accuracy: 0.9849\nEpoch 97/100\n11684/11684 [==============================] - 3s 254us/step - loss: 0.0741 - accuracy: 0.9851 - val_loss: 0.0755 - val_accuracy: 0.9849\nEpoch 98/100\n11684/11684 [==============================] - 3s 257us/step - loss: 0.0735 - accuracy: 0.9851 - val_loss: 0.0761 - val_accuracy: 0.9847\nEpoch 99/100\n11684/11684 [==============================] - 3s 254us/step - loss: 0.0737 - accuracy: 0.9851 - val_loss: 0.0756 - val_accuracy: 0.9849\nEpoch 100/100\n11684/11684 [==============================] - 3s 253us/step - loss: 0.0734 - accuracy: 0.9851 - val_loss: 0.0790 - val_accuracy: 0.9849\n"
    }
   ],
   "source": [
    "\n",
    "# initialize the number of epochs and batch size\n",
    "EPOCHS = 100\n",
    "BS = 32\n",
    "\n",
    "# construct the training image generator for data augmentation\n",
    "aug = ImageDataGenerator(rotation_range=20, zoom_range=0.15,\n",
    "\twidth_shift_range=0.2, height_shift_range=0.2, shear_range=0.15,\n",
    "\thorizontal_flip=True, fill_mode=\"nearest\")\n",
    "\n",
    "# # train the network\n",
    "# H = model.fit_generator(aug.flow(X_train, y_train, batch_size=BS),\n",
    "# \tvalidation_data=(X_test, y_test), steps_per_epoch=len(trainX) // BS,\n",
    "# \tepochs=EPOCHS)\n",
    "\n",
    "H=  model.fit(X_train, y_train,\n",
    "              batch_size=BS,\n",
    "              epochs=EPOCHS,\n",
    "              validation_data=(X_test, y_test),\n",
    "              shuffle=True)"
   ]
  },
  {
   "cell_type": "code",
   "execution_count": 31,
   "metadata": {},
   "outputs": [],
   "source": [
    "model.save('my_model.h5') "
   ]
  },
  {
   "cell_type": "code",
   "execution_count": 32,
   "metadata": {},
   "outputs": [],
   "source": [
    "# from tensorflow.keras.models import load_model\n",
    "# model = load_model(\"my_model.h5\")"
   ]
  },
  {
   "cell_type": "code",
   "execution_count": 33,
   "metadata": {},
   "outputs": [],
   "source": [
    "filepath = './test_image/1.jpg'\n",
    "image_size = 50\n",
    "LR = 1e-3\n",
    "# img = cv2.imread(filepath, cv2.IMREAD_GRAYSCALE) \n",
    "img = cv2.imread(filepath, 0) \n",
    "img = cv2.resize(img, (image_size, image_size))"
   ]
  },
  {
   "cell_type": "code",
   "execution_count": 34,
   "metadata": {},
   "outputs": [
    {
     "ename": "ValueError",
     "evalue": "Error when checking input: expected sequential_1_input to have 3 dimensions, but got array with shape (50, 50)",
     "output_type": "error",
     "traceback": [
      "\u001b[0;31m---------------------------------------------------------------------------\u001b[0m",
      "\u001b[0;31mValueError\u001b[0m                                Traceback (most recent call last)",
      "\u001b[0;32m<ipython-input-34-c487e2267fc1>\u001b[0m in \u001b[0;36m<module>\u001b[0;34m\u001b[0m\n\u001b[0;32m----> 1\u001b[0;31m \u001b[0mmodel\u001b[0m\u001b[0;34m.\u001b[0m\u001b[0mpredict_classes\u001b[0m\u001b[0;34m(\u001b[0m\u001b[0mimg\u001b[0m\u001b[0;34m)\u001b[0m\u001b[0;34m\u001b[0m\u001b[0;34m\u001b[0m\u001b[0m\n\u001b[0m",
      "\u001b[0;32m~/anaconda3/envs/python37/lib/python3.7/site-packages/keras/engine/sequential.py\u001b[0m in \u001b[0;36mpredict_classes\u001b[0;34m(self, x, batch_size, verbose)\u001b[0m\n\u001b[1;32m    266\u001b[0m             \u001b[0mA\u001b[0m \u001b[0mnumpy\u001b[0m \u001b[0marray\u001b[0m \u001b[0mof\u001b[0m \u001b[0;32mclass\u001b[0m \u001b[0mpredictions\u001b[0m\u001b[0;34m.\u001b[0m\u001b[0;34m\u001b[0m\u001b[0;34m\u001b[0m\u001b[0m\n\u001b[1;32m    267\u001b[0m         \"\"\"\n\u001b[0;32m--> 268\u001b[0;31m         \u001b[0mproba\u001b[0m \u001b[0;34m=\u001b[0m \u001b[0mself\u001b[0m\u001b[0;34m.\u001b[0m\u001b[0mpredict\u001b[0m\u001b[0;34m(\u001b[0m\u001b[0mx\u001b[0m\u001b[0;34m,\u001b[0m \u001b[0mbatch_size\u001b[0m\u001b[0;34m=\u001b[0m\u001b[0mbatch_size\u001b[0m\u001b[0;34m,\u001b[0m \u001b[0mverbose\u001b[0m\u001b[0;34m=\u001b[0m\u001b[0mverbose\u001b[0m\u001b[0;34m)\u001b[0m\u001b[0;34m\u001b[0m\u001b[0;34m\u001b[0m\u001b[0m\n\u001b[0m\u001b[1;32m    269\u001b[0m         \u001b[0;32mif\u001b[0m \u001b[0mproba\u001b[0m\u001b[0;34m.\u001b[0m\u001b[0mshape\u001b[0m\u001b[0;34m[\u001b[0m\u001b[0;34m-\u001b[0m\u001b[0;36m1\u001b[0m\u001b[0;34m]\u001b[0m \u001b[0;34m>\u001b[0m \u001b[0;36m1\u001b[0m\u001b[0;34m:\u001b[0m\u001b[0;34m\u001b[0m\u001b[0;34m\u001b[0m\u001b[0m\n\u001b[1;32m    270\u001b[0m             \u001b[0;32mreturn\u001b[0m \u001b[0mproba\u001b[0m\u001b[0;34m.\u001b[0m\u001b[0margmax\u001b[0m\u001b[0;34m(\u001b[0m\u001b[0maxis\u001b[0m\u001b[0;34m=\u001b[0m\u001b[0;34m-\u001b[0m\u001b[0;36m1\u001b[0m\u001b[0;34m)\u001b[0m\u001b[0;34m\u001b[0m\u001b[0;34m\u001b[0m\u001b[0m\n",
      "\u001b[0;32m~/anaconda3/envs/python37/lib/python3.7/site-packages/keras/engine/training.py\u001b[0m in \u001b[0;36mpredict\u001b[0;34m(self, x, batch_size, verbose, steps, callbacks, max_queue_size, workers, use_multiprocessing)\u001b[0m\n\u001b[1;32m   1439\u001b[0m \u001b[0;34m\u001b[0m\u001b[0m\n\u001b[1;32m   1440\u001b[0m         \u001b[0;31m# Case 2: Symbolic tensors or Numpy array-like.\u001b[0m\u001b[0;34m\u001b[0m\u001b[0;34m\u001b[0m\u001b[0;34m\u001b[0m\u001b[0m\n\u001b[0;32m-> 1441\u001b[0;31m         \u001b[0mx\u001b[0m\u001b[0;34m,\u001b[0m \u001b[0m_\u001b[0m\u001b[0;34m,\u001b[0m \u001b[0m_\u001b[0m \u001b[0;34m=\u001b[0m \u001b[0mself\u001b[0m\u001b[0;34m.\u001b[0m\u001b[0m_standardize_user_data\u001b[0m\u001b[0;34m(\u001b[0m\u001b[0mx\u001b[0m\u001b[0;34m)\u001b[0m\u001b[0;34m\u001b[0m\u001b[0;34m\u001b[0m\u001b[0m\n\u001b[0m\u001b[1;32m   1442\u001b[0m         \u001b[0;32mif\u001b[0m \u001b[0mself\u001b[0m\u001b[0;34m.\u001b[0m\u001b[0mstateful\u001b[0m\u001b[0;34m:\u001b[0m\u001b[0;34m\u001b[0m\u001b[0;34m\u001b[0m\u001b[0m\n\u001b[1;32m   1443\u001b[0m             \u001b[0;32mif\u001b[0m \u001b[0mx\u001b[0m\u001b[0;34m[\u001b[0m\u001b[0;36m0\u001b[0m\u001b[0;34m]\u001b[0m\u001b[0;34m.\u001b[0m\u001b[0mshape\u001b[0m\u001b[0;34m[\u001b[0m\u001b[0;36m0\u001b[0m\u001b[0;34m]\u001b[0m \u001b[0;34m>\u001b[0m \u001b[0mbatch_size\u001b[0m \u001b[0;32mand\u001b[0m \u001b[0mx\u001b[0m\u001b[0;34m[\u001b[0m\u001b[0;36m0\u001b[0m\u001b[0;34m]\u001b[0m\u001b[0;34m.\u001b[0m\u001b[0mshape\u001b[0m\u001b[0;34m[\u001b[0m\u001b[0;36m0\u001b[0m\u001b[0;34m]\u001b[0m \u001b[0;34m%\u001b[0m \u001b[0mbatch_size\u001b[0m \u001b[0;34m!=\u001b[0m \u001b[0;36m0\u001b[0m\u001b[0;34m:\u001b[0m\u001b[0;34m\u001b[0m\u001b[0;34m\u001b[0m\u001b[0m\n",
      "\u001b[0;32m~/anaconda3/envs/python37/lib/python3.7/site-packages/keras/engine/training.py\u001b[0m in \u001b[0;36m_standardize_user_data\u001b[0;34m(self, x, y, sample_weight, class_weight, check_array_lengths, batch_size)\u001b[0m\n\u001b[1;32m    577\u001b[0m             \u001b[0mfeed_input_shapes\u001b[0m\u001b[0;34m,\u001b[0m\u001b[0;34m\u001b[0m\u001b[0;34m\u001b[0m\u001b[0m\n\u001b[1;32m    578\u001b[0m             \u001b[0mcheck_batch_axis\u001b[0m\u001b[0;34m=\u001b[0m\u001b[0;32mFalse\u001b[0m\u001b[0;34m,\u001b[0m  \u001b[0;31m# Don't enforce the batch size.\u001b[0m\u001b[0;34m\u001b[0m\u001b[0;34m\u001b[0m\u001b[0m\n\u001b[0;32m--> 579\u001b[0;31m             exception_prefix='input')\n\u001b[0m\u001b[1;32m    580\u001b[0m \u001b[0;34m\u001b[0m\u001b[0m\n\u001b[1;32m    581\u001b[0m         \u001b[0;32mif\u001b[0m \u001b[0my\u001b[0m \u001b[0;32mis\u001b[0m \u001b[0;32mnot\u001b[0m \u001b[0;32mNone\u001b[0m\u001b[0;34m:\u001b[0m\u001b[0;34m\u001b[0m\u001b[0;34m\u001b[0m\u001b[0m\n",
      "\u001b[0;32m~/anaconda3/envs/python37/lib/python3.7/site-packages/keras/engine/training_utils.py\u001b[0m in \u001b[0;36mstandardize_input_data\u001b[0;34m(data, names, shapes, check_batch_axis, exception_prefix)\u001b[0m\n\u001b[1;32m    133\u001b[0m                         \u001b[0;34m': expected '\u001b[0m \u001b[0;34m+\u001b[0m \u001b[0mnames\u001b[0m\u001b[0;34m[\u001b[0m\u001b[0mi\u001b[0m\u001b[0;34m]\u001b[0m \u001b[0;34m+\u001b[0m \u001b[0;34m' to have '\u001b[0m \u001b[0;34m+\u001b[0m\u001b[0;34m\u001b[0m\u001b[0;34m\u001b[0m\u001b[0m\n\u001b[1;32m    134\u001b[0m                         \u001b[0mstr\u001b[0m\u001b[0;34m(\u001b[0m\u001b[0mlen\u001b[0m\u001b[0;34m(\u001b[0m\u001b[0mshape\u001b[0m\u001b[0;34m)\u001b[0m\u001b[0;34m)\u001b[0m \u001b[0;34m+\u001b[0m \u001b[0;34m' dimensions, but got array '\u001b[0m\u001b[0;34m\u001b[0m\u001b[0;34m\u001b[0m\u001b[0m\n\u001b[0;32m--> 135\u001b[0;31m                         'with shape ' + str(data_shape))\n\u001b[0m\u001b[1;32m    136\u001b[0m                 \u001b[0;32mif\u001b[0m \u001b[0;32mnot\u001b[0m \u001b[0mcheck_batch_axis\u001b[0m\u001b[0;34m:\u001b[0m\u001b[0;34m\u001b[0m\u001b[0;34m\u001b[0m\u001b[0m\n\u001b[1;32m    137\u001b[0m                     \u001b[0mdata_shape\u001b[0m \u001b[0;34m=\u001b[0m \u001b[0mdata_shape\u001b[0m\u001b[0;34m[\u001b[0m\u001b[0;36m1\u001b[0m\u001b[0;34m:\u001b[0m\u001b[0;34m]\u001b[0m\u001b[0;34m\u001b[0m\u001b[0;34m\u001b[0m\u001b[0m\n",
      "\u001b[0;31mValueError\u001b[0m: Error when checking input: expected sequential_1_input to have 3 dimensions, but got array with shape (50, 50)"
     ]
    }
   ],
   "source": [
    "model.predict_classes(img)"
   ]
  },
  {
   "cell_type": "code",
   "execution_count": null,
   "metadata": {},
   "outputs": [],
   "source": []
  }
 ],
 "metadata": {
  "kernelspec": {
   "display_name": "Python 3.7.3 64-bit",
   "language": "python",
   "name": "python37364bit230750f2ffa44fbfaec87aca222121f5"
  },
  "language_info": {
   "codemirror_mode": {
    "name": "ipython",
    "version": 3
   },
   "file_extension": ".py",
   "mimetype": "text/x-python",
   "name": "python",
   "nbconvert_exporter": "python",
   "pygments_lexer": "ipython3",
   "version": "3.7.3-final"
  }
 },
 "nbformat": 4,
 "nbformat_minor": 2
}