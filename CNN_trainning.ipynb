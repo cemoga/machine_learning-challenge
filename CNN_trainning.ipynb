{
 "cells": [
  {
   "source": [
    "import numpy as np \n",
    "X = np.load('X.npy', allow_pickle=False)\n",
    "y_text = np.load('y.npy', allow_pickle=False)\n",
    "print(\"X Shape:\", X.shape)\n",
    "print(\"y Shape:\", y_text.shape)\n",
    "print(\"y_text:\", y_text[1000])"
   ],
   "cell_type": "code",
   "outputs": [
    {
     "output_type": "stream",
     "name": "stdout",
     "text": "X Shape: (15579, 50, 50)\ny Shape: (15579,)\ny_text: restaurant\n"
    }
   ],
   "metadata": {},
   "execution_count": 2
  },
  {
   "source": [
    "from sklearn.preprocessing import LabelBinarizer\n",
    "# Encode the 67 categories into binary numbers\n",
    "encoder = LabelBinarizer()\n",
    "y = encoder.fit_transform(y_text)\n",
    "print(\"y:\", y[1000])\n",
    "# Sample to decode the binary encoding\n",
    "inverse = encoder.inverse_transform(y)\n",
    "print(inverse[1000])"
   ],
   "cell_type": "code",
   "outputs": [
    {
     "output_type": "stream",
     "name": "stdout",
     "text": "y: [0 0 0 0 0 0 0 0 0 0 0 0 0 0 0 0 0 0 0 0 0 0 0 0 0 0 0 0 0 0 0 0 0 0 0 0 0\n 0 0 0 0 0 0 0 0 0 0 0 0 0 0 0 0 0 1 0 0 0 0 0 0 0 0 0 0 0 0]\nrestaurant\n"
    }
   ],
   "metadata": {},
   "execution_count": 3
  },
  {
   "source": [
    "from sklearn.model_selection import train_test_split\n",
    "X_train, X_test, y_train, y_test = train_test_split(X, y, random_state=1, stratify=y)"
   ],
   "cell_type": "code",
   "outputs": [],
   "metadata": {},
   "execution_count": 4
  },
  {
   "source": [
    "# import the necessary packages\n",
    "from keras.optimizers import Adam\n",
    "# import the necessary packages\n",
    "from keras.preprocessing.image import ImageDataGenerator\n",
    "from keras.optimizers import Adam\n",
    "from sklearn.model_selection import train_test_split\n",
    "from keras.preprocessing.image import img_to_array\n",
    "from keras.utils import to_categorical\n",
    "\n",
    "\n",
    "import matplotlib.pyplot as plt\n",
    "import numpy as np\n",
    "import argparse\n",
    "import random\n",
    "import cv2\n",
    "import os"
   ],
   "cell_type": "code",
   "outputs": [
    {
     "output_type": "stream",
     "name": "stderr",
     "text": "Using TensorFlow backend.\n"
    }
   ],
   "metadata": {},
   "execution_count": 5
  },
  {
   "source": [
    "# Importing the Keras libraries and packages\n",
    "from keras.models import Sequential\n",
    "from keras.layers import Conv2D\n",
    "from keras.layers import MaxPooling2D\n",
    "from keras.layers import Flatten\n",
    "from keras.layers import Dense"
   ],
   "cell_type": "code",
   "outputs": [],
   "metadata": {},
   "execution_count": 6
  },
  {
   "source": [
    "model = Sequential()"
   ],
   "cell_type": "code",
   "outputs": [],
   "metadata": {},
   "execution_count": 7
  },
  {
   "source": [
    "# model.add(Conv2D(32, (3, 3), input_shape = (64, 64, 3), activation = 'relu'))"
   ],
   "cell_type": "code",
   "outputs": [],
   "metadata": {},
   "execution_count": 8
  },
  {
   "source": [
    "# model.add(MaxPooling2D(pool_size = (2, 2)))"
   ],
   "cell_type": "code",
   "outputs": [],
   "metadata": {},
   "execution_count": 9
  },
  {
   "source": [
    "model.add(Flatten())"
   ],
   "cell_type": "code",
   "outputs": [],
   "metadata": {},
   "execution_count": 10
  },
  {
   "source": [
    "model.add(Dense(units = 128, activation = 'relu'))"
   ],
   "cell_type": "code",
   "outputs": [],
   "metadata": {},
   "execution_count": 11
  },
  {
   "source": [
    "model.add(Dense(units = 67, activation = 'sigmoid'))"
   ],
   "cell_type": "code",
   "outputs": [],
   "metadata": {},
   "execution_count": 12
  },
  {
   "source": [
    "model.compile(optimizer = 'adam', loss = 'binary_crossentropy', metrics = ['accuracy'])"
   ],
   "cell_type": "code",
   "outputs": [],
   "metadata": {},
   "execution_count": 13
  },
  {
   "source": [
    "\n",
    "# initialize the number of epochs and batch size\n",
    "EPOCHS = 100\n",
    "BS = 32\n",
    "\n",
    "# construct the training image generator for data augmentation\n",
    "aug = ImageDataGenerator(rotation_range=20, zoom_range=0.15,\n",
    "\twidth_shift_range=0.2, height_shift_range=0.2, shear_range=0.15,\n",
    "\thorizontal_flip=True, fill_mode=\"nearest\")\n",
    "\n",
    "# # train the network\n",
    "# H = model.fit_generator(aug.flow(X_train, y_train, batch_size=BS),\n",
    "# \tvalidation_data=(X_test, y_test), steps_per_epoch=len(trainX) // BS,\n",
    "# \tepochs=EPOCHS)\n",
    "\n",
    "H=  model.fit(X_train, y_train,\n",
    "              batch_size=BS,\n",
    "              epochs=EPOCHS,\n",
    "              validation_data=(X_test, y_test),\n",
    "              shuffle=True)"
   ],
   "cell_type": "code",
   "outputs": [
    {
     "output_type": "stream",
     "name": "stdout",
     "text": "Train on 11684 samples, validate on 3895 samples\nEpoch 1/100\n11684/11684 [==============================] - 3s 273us/step - loss: 1.7890 - accuracy: 0.9640 - val_loss: 0.7620 - val_accuracy: 0.9775\nEpoch 2/100\n11684/11684 [==============================] - 3s 277us/step - loss: 0.6280 - accuracy: 0.9674 - val_loss: 0.8994 - val_accuracy: 0.9837\nEpoch 3/100\n11684/11684 [==============================] - 3s 261us/step - loss: 0.4208 - accuracy: 0.9689 - val_loss: 0.3705 - val_accuracy: 0.9745\nEpoch 4/100\n11684/11684 [==============================] - 3s 242us/step - loss: 0.3451 - accuracy: 0.9699 - val_loss: 0.1875 - val_accuracy: 0.9769\nEpoch 5/100\n11684/11684 [==============================] - 3s 263us/step - loss: 0.1642 - accuracy: 0.9767 - val_loss: 0.1406 - val_accuracy: 0.9760\nEpoch 6/100\n11684/11684 [==============================] - 3s 280us/step - loss: 0.1215 - accuracy: 0.9805 - val_loss: 0.1363 - val_accuracy: 0.9700\nEpoch 7/100\n11684/11684 [==============================] - 3s 268us/step - loss: 0.1043 - accuracy: 0.9829 - val_loss: 0.1082 - val_accuracy: 0.9813\nEpoch 8/100\n11684/11684 [==============================] - 3s 260us/step - loss: 0.0924 - accuracy: 0.9842 - val_loss: 0.0935 - val_accuracy: 0.9835\nEpoch 9/100\n11684/11684 [==============================] - 3s 250us/step - loss: 0.0867 - accuracy: 0.9848 - val_loss: 0.0978 - val_accuracy: 0.9822\nEpoch 10/100\n11684/11684 [==============================] - 3s 259us/step - loss: 0.0843 - accuracy: 0.9850 - val_loss: 0.0888 - val_accuracy: 0.9839\nEpoch 11/100\n11684/11684 [==============================] - 3s 255us/step - loss: 0.0833 - accuracy: 0.9850 - val_loss: 0.0862 - val_accuracy: 0.9848\nEpoch 12/100\n11684/11684 [==============================] - 3s 258us/step - loss: 0.0814 - accuracy: 0.9851 - val_loss: 0.0841 - val_accuracy: 0.9848\nEpoch 13/100\n11684/11684 [==============================] - 3s 257us/step - loss: 0.0809 - accuracy: 0.9851 - val_loss: 0.0829 - val_accuracy: 0.9849\nEpoch 14/100\n11684/11684 [==============================] - 3s 266us/step - loss: 0.0800 - accuracy: 0.9851 - val_loss: 0.0830 - val_accuracy: 0.9848\nEpoch 15/100\n11684/11684 [==============================] - 3s 260us/step - loss: 0.0798 - accuracy: 0.9851 - val_loss: 0.0837 - val_accuracy: 0.9849\nEpoch 16/100\n11684/11684 [==============================] - 3s 263us/step - loss: 0.0796 - accuracy: 0.9851 - val_loss: 0.0820 - val_accuracy: 0.9849\nEpoch 17/100\n11684/11684 [==============================] - 3s 261us/step - loss: 0.0793 - accuracy: 0.9851 - val_loss: 0.0810 - val_accuracy: 0.9849\nEpoch 18/100\n11684/11684 [==============================] - 3s 265us/step - loss: 0.0790 - accuracy: 0.9851 - val_loss: 0.0828 - val_accuracy: 0.9848\nEpoch 19/100\n11684/11684 [==============================] - 3s 261us/step - loss: 0.0788 - accuracy: 0.9851 - val_loss: 0.0851 - val_accuracy: 0.9848\nEpoch 20/100\n11684/11684 [==============================] - 3s 286us/step - loss: 0.0791 - accuracy: 0.9851 - val_loss: 0.0838 - val_accuracy: 0.9849\nEpoch 21/100\n11684/11684 [==============================] - 3s 294us/step - loss: 0.0786 - accuracy: 0.9851 - val_loss: 0.0846 - val_accuracy: 0.9848\nEpoch 22/100\n11684/11684 [==============================] - 3s 285us/step - loss: 0.0781 - accuracy: 0.9851 - val_loss: 0.0817 - val_accuracy: 0.9849\nEpoch 23/100\n11684/11684 [==============================] - 3s 277us/step - loss: 0.0792 - accuracy: 0.9851 - val_loss: 0.0945 - val_accuracy: 0.9848\nEpoch 24/100\n11684/11684 [==============================] - 3s 279us/step - loss: 0.0785 - accuracy: 0.9851 - val_loss: 0.0807 - val_accuracy: 0.9849\nEpoch 25/100\n11684/11684 [==============================] - 3s 280us/step - loss: 0.0785 - accuracy: 0.9851 - val_loss: 0.0819 - val_accuracy: 0.9848\nEpoch 26/100\n11684/11684 [==============================] - 3s 281us/step - loss: 0.0789 - accuracy: 0.9851 - val_loss: 0.0816 - val_accuracy: 0.9849\nEpoch 27/100\n11684/11684 [==============================] - 3s 278us/step - loss: 0.0788 - accuracy: 0.9851 - val_loss: 0.0795 - val_accuracy: 0.9849\nEpoch 28/100\n11684/11684 [==============================] - 3s 280us/step - loss: 0.0788 - accuracy: 0.9851 - val_loss: 0.0799 - val_accuracy: 0.9849\nEpoch 29/100\n11684/11684 [==============================] - 4s 301us/step - loss: 0.0787 - accuracy: 0.9851 - val_loss: 0.0796 - val_accuracy: 0.9849\nEpoch 30/100\n11684/11684 [==============================] - 3s 281us/step - loss: 0.0785 - accuracy: 0.9851 - val_loss: 0.0816 - val_accuracy: 0.9849\nEpoch 31/100\n11684/11684 [==============================] - 3s 281us/step - loss: 0.0786 - accuracy: 0.9851 - val_loss: 0.0812 - val_accuracy: 0.9849\nEpoch 32/100\n11684/11684 [==============================] - 3s 278us/step - loss: 0.0781 - accuracy: 0.9851 - val_loss: 0.0815 - val_accuracy: 0.9849\nEpoch 33/100\n11684/11684 [==============================] - 3s 278us/step - loss: 0.0780 - accuracy: 0.9851 - val_loss: 0.0788 - val_accuracy: 0.9849\nEpoch 34/100\n11684/11684 [==============================] - 3s 265us/step - loss: 0.0778 - accuracy: 0.9851 - val_loss: 0.0792 - val_accuracy: 0.9849\nEpoch 35/100\n11684/11684 [==============================] - 3s 255us/step - loss: 0.0778 - accuracy: 0.9851 - val_loss: 0.0799 - val_accuracy: 0.9849\nEpoch 36/100\n11684/11684 [==============================] - 3s 258us/step - loss: 0.0779 - accuracy: 0.9851 - val_loss: 0.0789 - val_accuracy: 0.9849\nEpoch 37/100\n11684/11684 [==============================] - 3s 260us/step - loss: 0.0774 - accuracy: 0.9851 - val_loss: 0.0798 - val_accuracy: 0.9849\nEpoch 38/100\n11684/11684 [==============================] - 3s 258us/step - loss: 0.0771 - accuracy: 0.9851 - val_loss: 0.0782 - val_accuracy: 0.9849\nEpoch 39/100\n11684/11684 [==============================] - 3s 252us/step - loss: 0.0797 - accuracy: 0.9851 - val_loss: 0.0801 - val_accuracy: 0.9849\nEpoch 40/100\n11684/11684 [==============================] - 3s 255us/step - loss: 0.0769 - accuracy: 0.9851 - val_loss: 0.0807 - val_accuracy: 0.9849\nEpoch 41/100\n11684/11684 [==============================] - 3s 249us/step - loss: 0.0767 - accuracy: 0.9851 - val_loss: 0.0830 - val_accuracy: 0.9849\nEpoch 42/100\n11684/11684 [==============================] - 3s 268us/step - loss: 0.0768 - accuracy: 0.9851 - val_loss: 0.0780 - val_accuracy: 0.9849\nEpoch 43/100\n11684/11684 [==============================] - 4s 328us/step - loss: 0.0766 - accuracy: 0.9851 - val_loss: 0.0785 - val_accuracy: 0.9849\nEpoch 44/100\n11684/11684 [==============================] - 3s 283us/step - loss: 0.0765 - accuracy: 0.9851 - val_loss: 0.0777 - val_accuracy: 0.9849\nEpoch 45/100\n11684/11684 [==============================] - 3s 279us/step - loss: 0.0763 - accuracy: 0.9851 - val_loss: 0.0778 - val_accuracy: 0.9849\nEpoch 46/100\n11684/11684 [==============================] - 3s 269us/step - loss: 0.0768 - accuracy: 0.9851 - val_loss: 0.0836 - val_accuracy: 0.9849\nEpoch 47/100\n11684/11684 [==============================] - 3s 272us/step - loss: 0.0764 - accuracy: 0.9851 - val_loss: 0.0785 - val_accuracy: 0.9849\nEpoch 48/100\n11684/11684 [==============================] - 3s 259us/step - loss: 0.0766 - accuracy: 0.9851 - val_loss: 0.0771 - val_accuracy: 0.9849\nEpoch 49/100\n11684/11684 [==============================] - 3s 254us/step - loss: 0.0762 - accuracy: 0.9851 - val_loss: 0.0779 - val_accuracy: 0.9849\nEpoch 50/100\n11684/11684 [==============================] - 3s 255us/step - loss: 0.0760 - accuracy: 0.9851 - val_loss: 0.0788 - val_accuracy: 0.9849\nEpoch 51/100\n11684/11684 [==============================] - 3s 256us/step - loss: 0.0764 - accuracy: 0.9851 - val_loss: 0.0769 - val_accuracy: 0.9849\nEpoch 52/100\n11684/11684 [==============================] - 3s 256us/step - loss: 0.0759 - accuracy: 0.9851 - val_loss: 0.0770 - val_accuracy: 0.9849\nEpoch 53/100\n11684/11684 [==============================] - 3s 258us/step - loss: 0.0760 - accuracy: 0.9851 - val_loss: 0.0768 - val_accuracy: 0.9849\nEpoch 54/100\n11684/11684 [==============================] - 3s 253us/step - loss: 0.0758 - accuracy: 0.9851 - val_loss: 0.0767 - val_accuracy: 0.9849\nEpoch 55/100\n11684/11684 [==============================] - 3s 254us/step - loss: 0.0758 - accuracy: 0.9851 - val_loss: 0.0779 - val_accuracy: 0.9849\nEpoch 56/100\n11684/11684 [==============================] - 3s 256us/step - loss: 0.0758 - accuracy: 0.9851 - val_loss: 0.0774 - val_accuracy: 0.9849\nEpoch 57/100\n11684/11684 [==============================] - 3s 256us/step - loss: 0.0755 - accuracy: 0.9851 - val_loss: 0.0786 - val_accuracy: 0.9849\nEpoch 58/100\n11684/11684 [==============================] - 3s 258us/step - loss: 0.0758 - accuracy: 0.9851 - val_loss: 0.0778 - val_accuracy: 0.9850\nEpoch 59/100\n11684/11684 [==============================] - 3s 255us/step - loss: 0.0755 - accuracy: 0.9851 - val_loss: 0.0828 - val_accuracy: 0.9848\nEpoch 60/100\n11684/11684 [==============================] - 3s 254us/step - loss: 0.0753 - accuracy: 0.9851 - val_loss: 0.0766 - val_accuracy: 0.9849\nEpoch 61/100\n11684/11684 [==============================] - 3s 255us/step - loss: 0.0755 - accuracy: 0.9851 - val_loss: 0.0769 - val_accuracy: 0.9850\nEpoch 62/100\n11684/11684 [==============================] - 3s 258us/step - loss: 0.0755 - accuracy: 0.9851 - val_loss: 0.0764 - val_accuracy: 0.9849\nEpoch 63/100\n11684/11684 [==============================] - 3s 262us/step - loss: 0.0752 - accuracy: 0.9851 - val_loss: 0.0769 - val_accuracy: 0.9849\nEpoch 64/100\n11684/11684 [==============================] - 3s 284us/step - loss: 0.0751 - accuracy: 0.9851 - val_loss: 0.0769 - val_accuracy: 0.9849\nEpoch 65/100\n11684/11684 [==============================] - 3s 265us/step - loss: 0.0750 - accuracy: 0.9851 - val_loss: 0.0762 - val_accuracy: 0.9849\nEpoch 66/100\n11684/11684 [==============================] - 3s 259us/step - loss: 0.0751 - accuracy: 0.9851 - val_loss: 0.0775 - val_accuracy: 0.9849\nEpoch 67/100\n11684/11684 [==============================] - 3s 256us/step - loss: 0.0754 - accuracy: 0.9851 - val_loss: 0.0783 - val_accuracy: 0.9849\nEpoch 68/100\n11684/11684 [==============================] - 3s 258us/step - loss: 0.0749 - accuracy: 0.9851 - val_loss: 0.0759 - val_accuracy: 0.9849\nEpoch 69/100\n11684/11684 [==============================] - 3s 258us/step - loss: 0.0750 - accuracy: 0.9851 - val_loss: 0.0758 - val_accuracy: 0.9849\nEpoch 70/100\n11684/11684 [==============================] - 3s 266us/step - loss: 0.0749 - accuracy: 0.9851 - val_loss: 0.0836 - val_accuracy: 0.9850\nEpoch 71/100\n11684/11684 [==============================] - 3s 255us/step - loss: 0.0751 - accuracy: 0.9851 - val_loss: 0.0761 - val_accuracy: 0.9850\nEpoch 72/100\n11684/11684 [==============================] - 3s 268us/step - loss: 0.0749 - accuracy: 0.9851 - val_loss: 0.0766 - val_accuracy: 0.9850\nEpoch 73/100\n11684/11684 [==============================] - 3s 255us/step - loss: 0.0749 - accuracy: 0.9851 - val_loss: 0.0797 - val_accuracy: 0.9850\nEpoch 74/100\n11684/11684 [==============================] - 3s 257us/step - loss: 0.0750 - accuracy: 0.9851 - val_loss: 0.0786 - val_accuracy: 0.9850\nEpoch 75/100\n11684/11684 [==============================] - 3s 258us/step - loss: 0.0746 - accuracy: 0.9851 - val_loss: 0.0755 - val_accuracy: 0.9849\nEpoch 76/100\n11684/11684 [==============================] - 3s 265us/step - loss: 0.0746 - accuracy: 0.9851 - val_loss: 0.0758 - val_accuracy: 0.9849\nEpoch 77/100\n11684/11684 [==============================] - 3s 259us/step - loss: 0.0744 - accuracy: 0.9851 - val_loss: 0.0771 - val_accuracy: 0.9850\nEpoch 78/100\n11684/11684 [==============================] - 3s 264us/step - loss: 0.0745 - accuracy: 0.9851 - val_loss: 0.0771 - val_accuracy: 0.9850\nEpoch 79/100\n11684/11684 [==============================] - 3s 259us/step - loss: 0.0747 - accuracy: 0.9851 - val_loss: 0.0793 - val_accuracy: 0.9850\nEpoch 80/100\n11684/11684 [==============================] - 3s 258us/step - loss: 0.0743 - accuracy: 0.9851 - val_loss: 0.0773 - val_accuracy: 0.9850\nEpoch 81/100\n11684/11684 [==============================] - 3s 285us/step - loss: 0.0746 - accuracy: 0.9851 - val_loss: 0.0762 - val_accuracy: 0.9849\nEpoch 82/100\n11684/11684 [==============================] - 3s 285us/step - loss: 0.0744 - accuracy: 0.9851 - val_loss: 0.0798 - val_accuracy: 0.9847\nEpoch 83/100\n11684/11684 [==============================] - 3s 266us/step - loss: 0.0742 - accuracy: 0.9851 - val_loss: 0.0757 - val_accuracy: 0.9849\nEpoch 84/100\n11684/11684 [==============================] - 3s 262us/step - loss: 0.0744 - accuracy: 0.9851 - val_loss: 0.0799 - val_accuracy: 0.9850\nEpoch 85/100\n11684/11684 [==============================] - 3s 258us/step - loss: 0.0740 - accuracy: 0.9851 - val_loss: 0.0766 - val_accuracy: 0.9848\nEpoch 86/100\n11684/11684 [==============================] - 3s 265us/step - loss: 0.0743 - accuracy: 0.9851 - val_loss: 0.0756 - val_accuracy: 0.9849\nEpoch 87/100\n11684/11684 [==============================] - 3s 266us/step - loss: 0.0739 - accuracy: 0.9851 - val_loss: 0.0808 - val_accuracy: 0.9850\nEpoch 88/100\n11684/11684 [==============================] - 3s 268us/step - loss: 0.0745 - accuracy: 0.9851 - val_loss: 0.0752 - val_accuracy: 0.9849\nEpoch 89/100\n11684/11684 [==============================] - 3s 269us/step - loss: 0.0741 - accuracy: 0.9851 - val_loss: 0.0755 - val_accuracy: 0.9849\nEpoch 90/100\n11684/11684 [==============================] - 3s 298us/step - loss: 0.0741 - accuracy: 0.9851 - val_loss: 0.0771 - val_accuracy: 0.9850\nEpoch 91/100\n11684/11684 [==============================] - 4s 301us/step - loss: 0.0739 - accuracy: 0.9851 - val_loss: 0.0759 - val_accuracy: 0.9849\nEpoch 92/100\n11684/11684 [==============================] - 3s 279us/step - loss: 0.0742 - accuracy: 0.9851 - val_loss: 0.0752 - val_accuracy: 0.9850\nEpoch 93/100\n11684/11684 [==============================] - 3s 269us/step - loss: 0.0740 - accuracy: 0.9851 - val_loss: 0.0831 - val_accuracy: 0.9849\nEpoch 94/100\n11684/11684 [==============================] - 3s 279us/step - loss: 0.0739 - accuracy: 0.9851 - val_loss: 0.0755 - val_accuracy: 0.9849\nEpoch 95/100\n11684/11684 [==============================] - 3s 269us/step - loss: 0.0738 - accuracy: 0.9851 - val_loss: 0.0760 - val_accuracy: 0.9850\nEpoch 96/100\n11684/11684 [==============================] - 3s 268us/step - loss: 0.0742 - accuracy: 0.9851 - val_loss: 0.0755 - val_accuracy: 0.9849\nEpoch 97/100\n11684/11684 [==============================] - 3s 263us/step - loss: 0.0739 - accuracy: 0.9851 - val_loss: 0.0764 - val_accuracy: 0.9848\nEpoch 98/100\n11684/11684 [==============================] - 3s 277us/step - loss: 0.0738 - accuracy: 0.9851 - val_loss: 0.0807 - val_accuracy: 0.9841\nEpoch 99/100\n11684/11684 [==============================] - 3s 268us/step - loss: 0.0737 - accuracy: 0.9851 - val_loss: 0.0757 - val_accuracy: 0.9849\nEpoch 100/100\n11684/11684 [==============================] - 3s 259us/step - loss: 0.0738 - accuracy: 0.9851 - val_loss: 0.0754 - val_accuracy: 0.9849\n"
    }
   ],
   "metadata": {},
   "execution_count": 14
  },
  {
   "source": [
    "model.save('my_model.h5') "
   ],
   "cell_type": "code",
   "outputs": [],
   "metadata": {},
   "execution_count": 15
  },
  {
   "source": [
    "from tensorflow.keras.models import load_model\n",
    "model = load_model(\"my_model.h5\")"
   ],
   "cell_type": "code",
   "outputs": [
    {
     "output_type": "stream",
     "name": "stdout",
     "text": "WARNING:tensorflow:Sequential models without an `input_shape` passed to the first layer cannot reload their optimizer state. As a result, your model isstarting with a freshly initialized optimizer.\n"
    }
   ],
   "metadata": {},
   "execution_count": 16
  },
  {
   "source": [
    "filepath = './test_image/1.jpg'\n",
    "image_size = 50\n",
    "LR = 1e-3\n",
    "# img = cv2.imread(filepath, cv2.IMREAD_GRAYSCALE) \n",
    "img = cv2.imread(filepath, 0) \n",
    "img = cv2.resize(img, (image_size, image_size))"
   ],
   "cell_type": "code",
   "outputs": [],
   "metadata": {},
   "execution_count": 17
  },
  {
   "source": [
    "model.predict_classes(img)"
   ],
   "cell_type": "code",
   "outputs": [
    {
     "output_type": "error",
     "ename": "ValueError",
     "evalue": "Input 0 of layer dense_1 is incompatible with the layer: expected axis -1 of input shape to have value 2500 but received input with shape [None, 50]",
     "traceback": [
      "\u001b[0;31m---------------------------------------------------------------------------\u001b[0m",
      "\u001b[0;31mValueError\u001b[0m                                Traceback (most recent call last)",
      "\u001b[0;32m<ipython-input-18-c487e2267fc1>\u001b[0m in \u001b[0;36m<module>\u001b[0;34m\u001b[0m\n\u001b[0;32m----> 1\u001b[0;31m \u001b[0mmodel\u001b[0m\u001b[0;34m.\u001b[0m\u001b[0mpredict_classes\u001b[0m\u001b[0;34m(\u001b[0m\u001b[0mimg\u001b[0m\u001b[0;34m)\u001b[0m\u001b[0;34m\u001b[0m\u001b[0;34m\u001b[0m\u001b[0m\n\u001b[0m",
      "\u001b[0;32m~/anaconda3/envs/python37/lib/python3.7/site-packages/tensorflow_core/python/keras/engine/sequential.py\u001b[0m in \u001b[0;36mpredict_classes\u001b[0;34m(self, x, batch_size, verbose)\u001b[0m\n\u001b[1;32m    336\u001b[0m         \u001b[0mA\u001b[0m \u001b[0mnumpy\u001b[0m \u001b[0marray\u001b[0m \u001b[0mof\u001b[0m \u001b[0;32mclass\u001b[0m \u001b[0mpredictions\u001b[0m\u001b[0;34m.\u001b[0m\u001b[0;34m\u001b[0m\u001b[0;34m\u001b[0m\u001b[0m\n\u001b[1;32m    337\u001b[0m     \"\"\"\n\u001b[0;32m--> 338\u001b[0;31m     \u001b[0mproba\u001b[0m \u001b[0;34m=\u001b[0m \u001b[0mself\u001b[0m\u001b[0;34m.\u001b[0m\u001b[0mpredict\u001b[0m\u001b[0;34m(\u001b[0m\u001b[0mx\u001b[0m\u001b[0;34m,\u001b[0m \u001b[0mbatch_size\u001b[0m\u001b[0;34m=\u001b[0m\u001b[0mbatch_size\u001b[0m\u001b[0;34m,\u001b[0m \u001b[0mverbose\u001b[0m\u001b[0;34m=\u001b[0m\u001b[0mverbose\u001b[0m\u001b[0;34m)\u001b[0m\u001b[0;34m\u001b[0m\u001b[0;34m\u001b[0m\u001b[0m\n\u001b[0m\u001b[1;32m    339\u001b[0m     \u001b[0;32mif\u001b[0m \u001b[0mproba\u001b[0m\u001b[0;34m.\u001b[0m\u001b[0mshape\u001b[0m\u001b[0;34m[\u001b[0m\u001b[0;34m-\u001b[0m\u001b[0;36m1\u001b[0m\u001b[0;34m]\u001b[0m \u001b[0;34m>\u001b[0m \u001b[0;36m1\u001b[0m\u001b[0;34m:\u001b[0m\u001b[0;34m\u001b[0m\u001b[0;34m\u001b[0m\u001b[0m\n\u001b[1;32m    340\u001b[0m       \u001b[0;32mreturn\u001b[0m \u001b[0mproba\u001b[0m\u001b[0;34m.\u001b[0m\u001b[0margmax\u001b[0m\u001b[0;34m(\u001b[0m\u001b[0maxis\u001b[0m\u001b[0;34m=\u001b[0m\u001b[0;34m-\u001b[0m\u001b[0;36m1\u001b[0m\u001b[0;34m)\u001b[0m\u001b[0;34m\u001b[0m\u001b[0;34m\u001b[0m\u001b[0m\n",
      "\u001b[0;32m~/anaconda3/envs/python37/lib/python3.7/site-packages/tensorflow_core/python/keras/engine/training.py\u001b[0m in \u001b[0;36mpredict\u001b[0;34m(self, x, batch_size, verbose, steps, callbacks, max_queue_size, workers, use_multiprocessing)\u001b[0m\n\u001b[1;32m   1011\u001b[0m         \u001b[0mmax_queue_size\u001b[0m\u001b[0;34m=\u001b[0m\u001b[0mmax_queue_size\u001b[0m\u001b[0;34m,\u001b[0m\u001b[0;34m\u001b[0m\u001b[0;34m\u001b[0m\u001b[0m\n\u001b[1;32m   1012\u001b[0m         \u001b[0mworkers\u001b[0m\u001b[0;34m=\u001b[0m\u001b[0mworkers\u001b[0m\u001b[0;34m,\u001b[0m\u001b[0;34m\u001b[0m\u001b[0;34m\u001b[0m\u001b[0m\n\u001b[0;32m-> 1013\u001b[0;31m         use_multiprocessing=use_multiprocessing)\n\u001b[0m\u001b[1;32m   1014\u001b[0m \u001b[0;34m\u001b[0m\u001b[0m\n\u001b[1;32m   1015\u001b[0m   \u001b[0;32mdef\u001b[0m \u001b[0mreset_metrics\u001b[0m\u001b[0;34m(\u001b[0m\u001b[0mself\u001b[0m\u001b[0;34m)\u001b[0m\u001b[0;34m:\u001b[0m\u001b[0;34m\u001b[0m\u001b[0;34m\u001b[0m\u001b[0m\n",
      "\u001b[0;32m~/anaconda3/envs/python37/lib/python3.7/site-packages/tensorflow_core/python/keras/engine/training_v2.py\u001b[0m in \u001b[0;36mpredict\u001b[0;34m(self, model, x, batch_size, verbose, steps, callbacks, max_queue_size, workers, use_multiprocessing, **kwargs)\u001b[0m\n\u001b[1;32m    496\u001b[0m         \u001b[0mmodel\u001b[0m\u001b[0;34m,\u001b[0m \u001b[0mModeKeys\u001b[0m\u001b[0;34m.\u001b[0m\u001b[0mPREDICT\u001b[0m\u001b[0;34m,\u001b[0m \u001b[0mx\u001b[0m\u001b[0;34m=\u001b[0m\u001b[0mx\u001b[0m\u001b[0;34m,\u001b[0m \u001b[0mbatch_size\u001b[0m\u001b[0;34m=\u001b[0m\u001b[0mbatch_size\u001b[0m\u001b[0;34m,\u001b[0m \u001b[0mverbose\u001b[0m\u001b[0;34m=\u001b[0m\u001b[0mverbose\u001b[0m\u001b[0;34m,\u001b[0m\u001b[0;34m\u001b[0m\u001b[0;34m\u001b[0m\u001b[0m\n\u001b[1;32m    497\u001b[0m         \u001b[0msteps\u001b[0m\u001b[0;34m=\u001b[0m\u001b[0msteps\u001b[0m\u001b[0;34m,\u001b[0m \u001b[0mcallbacks\u001b[0m\u001b[0;34m=\u001b[0m\u001b[0mcallbacks\u001b[0m\u001b[0;34m,\u001b[0m \u001b[0mmax_queue_size\u001b[0m\u001b[0;34m=\u001b[0m\u001b[0mmax_queue_size\u001b[0m\u001b[0;34m,\u001b[0m\u001b[0;34m\u001b[0m\u001b[0;34m\u001b[0m\u001b[0m\n\u001b[0;32m--> 498\u001b[0;31m         workers=workers, use_multiprocessing=use_multiprocessing, **kwargs)\n\u001b[0m\u001b[1;32m    499\u001b[0m \u001b[0;34m\u001b[0m\u001b[0m\n\u001b[1;32m    500\u001b[0m \u001b[0;34m\u001b[0m\u001b[0m\n",
      "\u001b[0;32m~/anaconda3/envs/python37/lib/python3.7/site-packages/tensorflow_core/python/keras/engine/training_v2.py\u001b[0m in \u001b[0;36m_model_iteration\u001b[0;34m(self, model, mode, x, y, batch_size, verbose, sample_weight, steps, callbacks, max_queue_size, workers, use_multiprocessing, **kwargs)\u001b[0m\n\u001b[1;32m    424\u001b[0m           \u001b[0mmax_queue_size\u001b[0m\u001b[0;34m=\u001b[0m\u001b[0mmax_queue_size\u001b[0m\u001b[0;34m,\u001b[0m\u001b[0;34m\u001b[0m\u001b[0;34m\u001b[0m\u001b[0m\n\u001b[1;32m    425\u001b[0m           \u001b[0mworkers\u001b[0m\u001b[0;34m=\u001b[0m\u001b[0mworkers\u001b[0m\u001b[0;34m,\u001b[0m\u001b[0;34m\u001b[0m\u001b[0;34m\u001b[0m\u001b[0m\n\u001b[0;32m--> 426\u001b[0;31m           use_multiprocessing=use_multiprocessing)\n\u001b[0m\u001b[1;32m    427\u001b[0m       \u001b[0mtotal_samples\u001b[0m \u001b[0;34m=\u001b[0m \u001b[0m_get_total_number_of_samples\u001b[0m\u001b[0;34m(\u001b[0m\u001b[0madapter\u001b[0m\u001b[0;34m)\u001b[0m\u001b[0;34m\u001b[0m\u001b[0;34m\u001b[0m\u001b[0m\n\u001b[1;32m    428\u001b[0m       \u001b[0muse_sample\u001b[0m \u001b[0;34m=\u001b[0m \u001b[0mtotal_samples\u001b[0m \u001b[0;32mis\u001b[0m \u001b[0;32mnot\u001b[0m \u001b[0;32mNone\u001b[0m\u001b[0;34m\u001b[0m\u001b[0;34m\u001b[0m\u001b[0m\n",
      "\u001b[0;32m~/anaconda3/envs/python37/lib/python3.7/site-packages/tensorflow_core/python/keras/engine/training_v2.py\u001b[0m in \u001b[0;36m_process_inputs\u001b[0;34m(model, mode, x, y, batch_size, epochs, sample_weights, class_weights, shuffle, steps, distribution_strategy, max_queue_size, workers, use_multiprocessing)\u001b[0m\n\u001b[1;32m    644\u001b[0m     \u001b[0mstandardize_function\u001b[0m \u001b[0;34m=\u001b[0m \u001b[0;32mNone\u001b[0m\u001b[0;34m\u001b[0m\u001b[0;34m\u001b[0m\u001b[0m\n\u001b[1;32m    645\u001b[0m     x, y, sample_weights = standardize(\n\u001b[0;32m--> 646\u001b[0;31m         x, y, sample_weight=sample_weights)\n\u001b[0m\u001b[1;32m    647\u001b[0m   \u001b[0;32melif\u001b[0m \u001b[0madapter_cls\u001b[0m \u001b[0;32mis\u001b[0m \u001b[0mdata_adapter\u001b[0m\u001b[0;34m.\u001b[0m\u001b[0mListsOfScalarsDataAdapter\u001b[0m\u001b[0;34m:\u001b[0m\u001b[0;34m\u001b[0m\u001b[0;34m\u001b[0m\u001b[0m\n\u001b[1;32m    648\u001b[0m     \u001b[0mstandardize_function\u001b[0m \u001b[0;34m=\u001b[0m \u001b[0mstandardize\u001b[0m\u001b[0;34m\u001b[0m\u001b[0;34m\u001b[0m\u001b[0m\n",
      "\u001b[0;32m~/anaconda3/envs/python37/lib/python3.7/site-packages/tensorflow_core/python/keras/engine/training.py\u001b[0m in \u001b[0;36m_standardize_user_data\u001b[0;34m(self, x, y, sample_weight, class_weight, batch_size, check_steps, steps_name, steps, validation_split, shuffle, extract_tensors_from_dataset)\u001b[0m\n\u001b[1;32m   2344\u001b[0m     \u001b[0;31m# First, we build the model on the fly if necessary.\u001b[0m\u001b[0;34m\u001b[0m\u001b[0;34m\u001b[0m\u001b[0;34m\u001b[0m\u001b[0m\n\u001b[1;32m   2345\u001b[0m     \u001b[0;32mif\u001b[0m \u001b[0;32mnot\u001b[0m \u001b[0mself\u001b[0m\u001b[0;34m.\u001b[0m\u001b[0minputs\u001b[0m\u001b[0;34m:\u001b[0m\u001b[0;34m\u001b[0m\u001b[0;34m\u001b[0m\u001b[0m\n\u001b[0;32m-> 2346\u001b[0;31m       \u001b[0mall_inputs\u001b[0m\u001b[0;34m,\u001b[0m \u001b[0my_input\u001b[0m\u001b[0;34m,\u001b[0m \u001b[0mdict_inputs\u001b[0m \u001b[0;34m=\u001b[0m \u001b[0mself\u001b[0m\u001b[0;34m.\u001b[0m\u001b[0m_build_model_with_inputs\u001b[0m\u001b[0;34m(\u001b[0m\u001b[0mx\u001b[0m\u001b[0;34m,\u001b[0m \u001b[0my\u001b[0m\u001b[0;34m)\u001b[0m\u001b[0;34m\u001b[0m\u001b[0;34m\u001b[0m\u001b[0m\n\u001b[0m\u001b[1;32m   2347\u001b[0m       \u001b[0mis_build_called\u001b[0m \u001b[0;34m=\u001b[0m \u001b[0;32mTrue\u001b[0m\u001b[0;34m\u001b[0m\u001b[0;34m\u001b[0m\u001b[0m\n\u001b[1;32m   2348\u001b[0m     \u001b[0;32melse\u001b[0m\u001b[0;34m:\u001b[0m\u001b[0;34m\u001b[0m\u001b[0;34m\u001b[0m\u001b[0m\n",
      "\u001b[0;32m~/anaconda3/envs/python37/lib/python3.7/site-packages/tensorflow_core/python/keras/engine/training.py\u001b[0m in \u001b[0;36m_build_model_with_inputs\u001b[0;34m(self, inputs, targets)\u001b[0m\n\u001b[1;32m   2570\u001b[0m     \u001b[0;32melse\u001b[0m\u001b[0;34m:\u001b[0m\u001b[0;34m\u001b[0m\u001b[0;34m\u001b[0m\u001b[0m\n\u001b[1;32m   2571\u001b[0m       \u001b[0mcast_inputs\u001b[0m \u001b[0;34m=\u001b[0m \u001b[0minputs\u001b[0m\u001b[0;34m\u001b[0m\u001b[0;34m\u001b[0m\u001b[0m\n\u001b[0;32m-> 2572\u001b[0;31m     \u001b[0mself\u001b[0m\u001b[0;34m.\u001b[0m\u001b[0m_set_inputs\u001b[0m\u001b[0;34m(\u001b[0m\u001b[0mcast_inputs\u001b[0m\u001b[0;34m)\u001b[0m\u001b[0;34m\u001b[0m\u001b[0;34m\u001b[0m\u001b[0m\n\u001b[0m\u001b[1;32m   2573\u001b[0m     \u001b[0;32mreturn\u001b[0m \u001b[0mprocessed_inputs\u001b[0m\u001b[0;34m,\u001b[0m \u001b[0mtargets\u001b[0m\u001b[0;34m,\u001b[0m \u001b[0mis_dict_inputs\u001b[0m\u001b[0;34m\u001b[0m\u001b[0;34m\u001b[0m\u001b[0m\n\u001b[1;32m   2574\u001b[0m \u001b[0;34m\u001b[0m\u001b[0m\n",
      "\u001b[0;32m~/anaconda3/envs/python37/lib/python3.7/site-packages/tensorflow_core/python/keras/engine/training.py\u001b[0m in \u001b[0;36m_set_inputs\u001b[0;34m(self, inputs, outputs, training)\u001b[0m\n\u001b[1;32m   2657\u001b[0m           \u001b[0mkwargs\u001b[0m\u001b[0;34m[\u001b[0m\u001b[0;34m'training'\u001b[0m\u001b[0;34m]\u001b[0m \u001b[0;34m=\u001b[0m \u001b[0mtraining\u001b[0m\u001b[0;34m\u001b[0m\u001b[0;34m\u001b[0m\u001b[0m\n\u001b[1;32m   2658\u001b[0m       \u001b[0;32mtry\u001b[0m\u001b[0;34m:\u001b[0m\u001b[0;34m\u001b[0m\u001b[0;34m\u001b[0m\u001b[0m\n\u001b[0;32m-> 2659\u001b[0;31m         \u001b[0moutputs\u001b[0m \u001b[0;34m=\u001b[0m \u001b[0mself\u001b[0m\u001b[0;34m(\u001b[0m\u001b[0minputs\u001b[0m\u001b[0;34m,\u001b[0m \u001b[0;34m**\u001b[0m\u001b[0mkwargs\u001b[0m\u001b[0;34m)\u001b[0m\u001b[0;34m\u001b[0m\u001b[0;34m\u001b[0m\u001b[0m\n\u001b[0m\u001b[1;32m   2660\u001b[0m       \u001b[0;32mexcept\u001b[0m \u001b[0mNotImplementedError\u001b[0m\u001b[0;34m:\u001b[0m\u001b[0;34m\u001b[0m\u001b[0;34m\u001b[0m\u001b[0m\n\u001b[1;32m   2661\u001b[0m         \u001b[0;31m# This Model or a submodel is dynamic and hasn't overridden\u001b[0m\u001b[0;34m\u001b[0m\u001b[0;34m\u001b[0m\u001b[0;34m\u001b[0m\u001b[0m\n",
      "\u001b[0;32m~/anaconda3/envs/python37/lib/python3.7/site-packages/tensorflow_core/python/keras/engine/base_layer.py\u001b[0m in \u001b[0;36m__call__\u001b[0;34m(self, inputs, *args, **kwargs)\u001b[0m\n\u001b[1;32m    771\u001b[0m                     not base_layer_utils.is_in_eager_or_tf_function()):\n\u001b[1;32m    772\u001b[0m                   \u001b[0;32mwith\u001b[0m \u001b[0mauto_control_deps\u001b[0m\u001b[0;34m.\u001b[0m\u001b[0mAutomaticControlDependencies\u001b[0m\u001b[0;34m(\u001b[0m\u001b[0;34m)\u001b[0m \u001b[0;32mas\u001b[0m \u001b[0macd\u001b[0m\u001b[0;34m:\u001b[0m\u001b[0;34m\u001b[0m\u001b[0;34m\u001b[0m\u001b[0m\n\u001b[0;32m--> 773\u001b[0;31m                     \u001b[0moutputs\u001b[0m \u001b[0;34m=\u001b[0m \u001b[0mcall_fn\u001b[0m\u001b[0;34m(\u001b[0m\u001b[0mcast_inputs\u001b[0m\u001b[0;34m,\u001b[0m \u001b[0;34m*\u001b[0m\u001b[0margs\u001b[0m\u001b[0;34m,\u001b[0m \u001b[0;34m**\u001b[0m\u001b[0mkwargs\u001b[0m\u001b[0;34m)\u001b[0m\u001b[0;34m\u001b[0m\u001b[0;34m\u001b[0m\u001b[0m\n\u001b[0m\u001b[1;32m    774\u001b[0m                     \u001b[0;31m# Wrap Tensors in `outputs` in `tf.identity` to avoid\u001b[0m\u001b[0;34m\u001b[0m\u001b[0;34m\u001b[0m\u001b[0;34m\u001b[0m\u001b[0m\n\u001b[1;32m    775\u001b[0m                     \u001b[0;31m# circular dependencies.\u001b[0m\u001b[0;34m\u001b[0m\u001b[0;34m\u001b[0m\u001b[0;34m\u001b[0m\u001b[0m\n",
      "\u001b[0;32m~/anaconda3/envs/python37/lib/python3.7/site-packages/tensorflow_core/python/keras/engine/sequential.py\u001b[0m in \u001b[0;36mcall\u001b[0;34m(self, inputs, training, mask)\u001b[0m\n\u001b[1;32m    279\u001b[0m         \u001b[0mkwargs\u001b[0m\u001b[0;34m[\u001b[0m\u001b[0;34m'training'\u001b[0m\u001b[0;34m]\u001b[0m \u001b[0;34m=\u001b[0m \u001b[0mtraining\u001b[0m\u001b[0;34m\u001b[0m\u001b[0;34m\u001b[0m\u001b[0m\n\u001b[1;32m    280\u001b[0m \u001b[0;34m\u001b[0m\u001b[0m\n\u001b[0;32m--> 281\u001b[0;31m       \u001b[0moutputs\u001b[0m \u001b[0;34m=\u001b[0m \u001b[0mlayer\u001b[0m\u001b[0;34m(\u001b[0m\u001b[0minputs\u001b[0m\u001b[0;34m,\u001b[0m \u001b[0;34m**\u001b[0m\u001b[0mkwargs\u001b[0m\u001b[0;34m)\u001b[0m\u001b[0;34m\u001b[0m\u001b[0;34m\u001b[0m\u001b[0m\n\u001b[0m\u001b[1;32m    282\u001b[0m \u001b[0;34m\u001b[0m\u001b[0m\n\u001b[1;32m    283\u001b[0m       \u001b[0;31m# `outputs` will be the inputs to the next layer.\u001b[0m\u001b[0;34m\u001b[0m\u001b[0;34m\u001b[0m\u001b[0;34m\u001b[0m\u001b[0m\n",
      "\u001b[0;32m~/anaconda3/envs/python37/lib/python3.7/site-packages/tensorflow_core/python/keras/engine/base_layer.py\u001b[0m in \u001b[0;36m__call__\u001b[0;34m(self, inputs, *args, **kwargs)\u001b[0m\n\u001b[1;32m    735\u001b[0m         \u001b[0;31m# are casted, not before.\u001b[0m\u001b[0;34m\u001b[0m\u001b[0;34m\u001b[0m\u001b[0;34m\u001b[0m\u001b[0m\n\u001b[1;32m    736\u001b[0m         input_spec.assert_input_compatibility(self.input_spec, inputs,\n\u001b[0;32m--> 737\u001b[0;31m                                               self.name)\n\u001b[0m\u001b[1;32m    738\u001b[0m         if (any(isinstance(x, ragged_tensor.RaggedTensor) for x in input_list)\n\u001b[1;32m    739\u001b[0m             and self._supports_ragged_inputs is False):  # pylint: disable=g-bool-id-comparison\n",
      "\u001b[0;32m~/anaconda3/envs/python37/lib/python3.7/site-packages/tensorflow_core/python/keras/engine/input_spec.py\u001b[0m in \u001b[0;36massert_input_compatibility\u001b[0;34m(input_spec, inputs, layer_name)\u001b[0m\n\u001b[1;32m    211\u001b[0m                 \u001b[0;34m' incompatible with the layer: expected axis '\u001b[0m \u001b[0;34m+\u001b[0m \u001b[0mstr\u001b[0m\u001b[0;34m(\u001b[0m\u001b[0maxis\u001b[0m\u001b[0;34m)\u001b[0m \u001b[0;34m+\u001b[0m\u001b[0;34m\u001b[0m\u001b[0;34m\u001b[0m\u001b[0m\n\u001b[1;32m    212\u001b[0m                 \u001b[0;34m' of input shape to have value '\u001b[0m \u001b[0;34m+\u001b[0m \u001b[0mstr\u001b[0m\u001b[0;34m(\u001b[0m\u001b[0mvalue\u001b[0m\u001b[0;34m)\u001b[0m \u001b[0;34m+\u001b[0m\u001b[0;34m\u001b[0m\u001b[0;34m\u001b[0m\u001b[0m\n\u001b[0;32m--> 213\u001b[0;31m                 ' but received input with shape ' + str(shape))\n\u001b[0m\u001b[1;32m    214\u001b[0m     \u001b[0;31m# Check shape.\u001b[0m\u001b[0;34m\u001b[0m\u001b[0;34m\u001b[0m\u001b[0;34m\u001b[0m\u001b[0m\n\u001b[1;32m    215\u001b[0m     \u001b[0;32mif\u001b[0m \u001b[0mspec\u001b[0m\u001b[0;34m.\u001b[0m\u001b[0mshape\u001b[0m \u001b[0;32mis\u001b[0m \u001b[0;32mnot\u001b[0m \u001b[0;32mNone\u001b[0m\u001b[0;34m:\u001b[0m\u001b[0;34m\u001b[0m\u001b[0;34m\u001b[0m\u001b[0m\n",
      "\u001b[0;31mValueError\u001b[0m: Input 0 of layer dense_1 is incompatible with the layer: expected axis -1 of input shape to have value 2500 but received input with shape [None, 50]"
     ]
    }
   ],
   "metadata": {},
   "execution_count": 18
  },
  {
   "cell_type": "code",
   "execution_count": null,
   "metadata": {},
   "outputs": [],
   "source": []
  }
 ],
 "metadata": {
  "kernelspec": {
   "display_name": "Python 3.7.3 64-bit",
   "language": "python",
   "name": "python37364bit230750f2ffa44fbfaec87aca222121f5"
  },
  "language_info": {
   "codemirror_mode": {
    "name": "ipython",
    "version": 3
   },
   "file_extension": ".py",
   "mimetype": "text/x-python",
   "name": "python",
   "nbconvert_exporter": "python",
   "pygments_lexer": "ipython3",
   "version": "3.7.3-final"
  }
 },
 "nbformat": 4,
 "nbformat_minor": 2
}