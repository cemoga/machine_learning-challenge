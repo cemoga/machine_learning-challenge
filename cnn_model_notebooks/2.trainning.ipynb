{
 "cells": [
  {
   "cell_type": "markdown",
   "execution_count": null,
   "metadata": {},
   "outputs": [],
   "source": [
    "# Train Model"
   ]
  },
  {
   "cell_type": "markdown",
   "execution_count": null,
   "metadata": {},
   "outputs": [],
   "source": [
    "### Import dependencies"
   ]
  },
  {
   "cell_type": "code",
   "execution_count": 35,
   "metadata": {},
   "outputs": [
    {
     "name": "stdout",
     "output_type": "stream",
     "text": "X Shape: (15579, 50, 50)\ny Shape: (15579,)\ny_text: restaurant\n"
    },
    {
     "data": {
      "text/plain": "(50, 50)"
     },
     "execution_count": 35,
     "metadata": {},
     "output_type": "execute_result"
    }
   ],
   "source": [
    "import numpy as np \n",
    "X = np.load('./output/X.npy', allow_pickle=False)\n",
    "X = np.array(X)\n",
    "y_text = np.load('./output/y.npy', allow_pickle=False)\n",
    "y_text = np.array(y_text)\n",
    "\n",
    "\n",
    "print(\"X Shape:\", X.shape)\n",
    "print(\"y Shape:\", y_text.shape)\n",
    "print(\"y_text:\", y_text[1000])\n",
    "X.shape[1:]"
   ]
  },
  {
   "cell_type": "markdown",
   "execution_count": 23,
   "metadata": {},
   "outputs": [],
   "source": [
    "### Preprocess Images"
   ]
  },
  {
   "cell_type": "code",
   "execution_count": 36,
   "metadata": {},
   "outputs": [
    {
     "name": "stdout",
     "output_type": "stream",
     "text": "y: [0 0 0 0 0 0 0 0 0 0 0 0 0 0 0 0 0 0 0 0 0 0 0 0 0 0 0 0 0 0 0 0 0 0 0 0 0\n 0 0 0 0 0 0 0 0 0 0 0 0 0 0 0 0 0 1 0 0 0 0 0 0 0 0 0 0 0 0]\nrestaurant\n"
    }
   ],
   "source": [
    "from sklearn.preprocessing import LabelBinarizer\n",
    "# Encode the 67 categories into binary numbers\n",
    "encoder = LabelBinarizer()\n",
    "y = encoder.fit_transform(y_text)\n",
    "print(\"y:\", y[1000])\n",
    "# Sample to decode the binary encoding\n",
    "inverse = encoder.inverse_transform(y)\n",
    "print(inverse[1000])"
   ]
  },
  {
   "cell_type": "markdown",
   "execution_count": null,
   "metadata": {},
   "outputs": [],
   "source": [
    "### Split the data into test and train"
   ]
  },
  {
   "cell_type": "code",
   "execution_count": 37,
   "metadata": {},
   "outputs": [],
   "source": [
    "from sklearn.model_selection import train_test_split\n",
    "X_train, X_test, y_train, y_test = train_test_split(X, y, random_state=1, stratify=y)"
   ]
  },
  {
   "cell_type": "code",
   "execution_count": 38,
   "metadata": {},
   "outputs": [
    {
     "name": "stdout",
     "output_type": "stream",
     "text": "[0 0 0 0 0 0 0 0 0 1 0 0 0 0 0 0 0 0 0 0 0 0 0 0 0 0 0 0 0 0 0 0 0 0 0 0 0\n 0 0 0 0 0 0 0 0 0 0 0 0 0 0 0 0 0 0 0 0 0 0 0 0 0 0 0 0 0 0]\n[0 0 0 0 0 0 0 0 0 0 0 0 0 0 0 0 0 0 0 0 0 0 0 0 0 0 0 0 0 0 0 0 0 0 0 0 0\n 1 0 0 0 0 0 0 0 0 0 0 0 0 0 0 0 0 0 0 0 0 0 0 0 0 0 0 0 0 0]\nX_train Shape: (11684, 50, 50)\ny_train Shape: (11684, 67)\nX_test Shape: (3895, 50, 50)\ny_test Shape: (3895, 67)\n"
    }
   ],
   "source": [
    "print(y_train[0])\n",
    "print(y_train[1])\n",
    "print(\"X_train Shape:\", X_train.shape)\n",
    "print(\"y_train Shape:\", y_train.shape)\n",
    "print(\"X_test Shape:\", X_test.shape)\n",
    "print(\"y_test Shape:\", y_test.shape)"
   ]
  },
  {
   "cell_type": "markdown",
   "execution_count": null,
   "metadata": {},
   "outputs": [],
   "source": [
    "### Train data"
   ]
  },
  {
   "cell_type": "code",
   "execution_count": 39,
   "metadata": {},
   "outputs": [
    {
     "data": {
      "text/plain": "array([[[ 15,  13,   9, ...,  78,  81,  61],\n        [ 31,  21,  21, ...,  75,  69,  58],\n        [ 70,  41,  42, ...,  96,  61,  59],\n        ...,\n        [ 37,  52,  55, ..., 143, 135, 154],\n        [ 29,  35,  58, ..., 188, 147, 159],\n        [ 29,  32,  36, ..., 208, 155, 185]],\n\n       [[119, 122, 125, ..., 107, 102, 105],\n        [115, 115, 123, ...,  54,  57,  86],\n        [116, 117, 123, ...,  77,  75,  69],\n        ...,\n        [  6,  13,  35, ..., 145, 137, 141],\n        [  6,  28,  43, ..., 144, 133, 138],\n        [ 18,  42,  56, ..., 134, 123, 124]],\n\n       [[254, 255, 197, ..., 145, 145, 143],\n        [198, 249, 255, ..., 144, 143, 141],\n        [253, 250, 255, ..., 144, 142, 142],\n        ...,\n        [ 78,  76,  78, ...,  78,  70,  72],\n        [ 87,  80,  81, ...,  83,  69,  69],\n        [ 82,  76,  87, ...,  87,  67,  40]],\n\n       ...,\n\n       [[ 74,  76,  75, ...,  19,  23,  78],\n        [ 48,  79,  79, ...,  85,  78,  72],\n        [ 74,  80,  84, ...,  86,  76,  78],\n        ...,\n        [ 23,  24,  31, ...,   5,   7,   8],\n        [ 23,  22,  29, ...,   8,   7,   8],\n        [ 25,  22,  29, ...,   9,   9,  13]],\n\n       [[ 40,  31,  34, ...,  17,   0,  14],\n        [ 98, 136, 138, ...,  23,   8,  13],\n        [118, 120, 124, ...,  30,  18,   3],\n        ...,\n        [130,  91, 109, ...,   5, 163, 161],\n        [104, 110, 103, ...,  72,  66,  78],\n        [118,  25,   1, ...,  78, 111,  87]],\n\n       [[ 40,  38,  39, ...,  34,  37,  32],\n        [ 41,  24,  36, ...,  72,  75, 112],\n        [244, 132, 117, ...,  71,  71,  70],\n        ...,\n        [111, 106,  75, ...,  80,  94, 167],\n        [ 95,  71,  85, ...,  95, 116, 145],\n        [ 89,  65,  57, ...,  87, 159, 139]]], dtype=uint8)"
     },
     "execution_count": 39,
     "metadata": {},
     "output_type": "execute_result"
    }
   ],
   "source": [
    "X_train"
   ]
  },
  {
   "cell_type": "markdown",
   "execution_count": null,
   "metadata": {},
   "outputs": [],
   "source": [
    "### Train and Test data Reshaping"
   ]
  },
  {
   "cell_type": "code",
   "execution_count": 40,
   "metadata": {},
   "outputs": [],
   "source": [
    "X_train = X_train.reshape(11684,50,50,1)\n",
    "X_test = X_test.reshape(3895,50,50,1)"
   ]
  },
  {
   "cell_type": "markdown",
   "execution_count": null,
   "metadata": {},
   "outputs": [],
   "source": [
    "### Model Training"
   ]
  },
  {
   "cell_type": "code",
   "execution_count": 41,
   "metadata": {},
   "outputs": [
    {
     "name": "stderr",
     "output_type": "stream",
     "text": "Using TensorFlow backend.\n"
    }
   ],
   "source": [
    "from keras.models import Sequential\n",
    "from keras.layers import Dense, Flatten, Conv2D, MaxPooling2D\n",
    "model = Sequential()"
   ]
  },
  {
   "cell_type": "code",
   "execution_count": 42,
   "metadata": {},
   "outputs": [],
   "source": [
    "# New Layer\n",
    "model.add(Conv2D(32, (5, 5), activation='relu', input_shape=(50,50,1)))"
   ]
  },
  {
   "cell_type": "code",
   "execution_count": 43,
   "metadata": {},
   "outputs": [],
   "source": [
    "# New Layer\n",
    "model.add(MaxPooling2D(pool_size=(2, 2)))"
   ]
  },
  {
   "cell_type": "code",
   "execution_count": 44,
   "metadata": {},
   "outputs": [],
   "source": [
    "# New Layers\n",
    "model.add(Conv2D(64, (5, 5), activation='relu'))\n",
    "model.add(MaxPooling2D(pool_size=(2, 2)))"
   ]
  },
  {
   "cell_type": "code",
   "execution_count": 45,
   "metadata": {},
   "outputs": [],
   "source": [
    "# New Layer\n",
    "model.add(Flatten())"
   ]
  },
  {
   "cell_type": "code",
   "execution_count": 46,
   "metadata": {},
   "outputs": [],
   "source": [
    "# New Layer\n",
    "model.add(Dense(1000, activation='relu'))"
   ]
  },
  {
   "cell_type": "code",
   "execution_count": 47,
   "metadata": {},
   "outputs": [],
   "source": [
    "# New Layer\n",
    "model.add(Dense(67, activation='softmax'))"
   ]
  },
  {
   "cell_type": "code",
   "execution_count": 48,
   "metadata": {},
   "outputs": [],
   "source": [
    "#Model Compile\n",
    "model.compile(loss='categorical_crossentropy', \n",
    "              optimizer='adam',\n",
    "              metrics=['accuracy'])"
   ]
  },
  {
   "cell_type": "code",
   "execution_count": 49,
   "metadata": {},
   "outputs": [
    {
     "name": "stdout",
     "output_type": "stream",
     "text": "Model: \"sequential_1\"\n_________________________________________________________________\nLayer (type)                 Output Shape              Param #   \n=================================================================\nconv2d_1 (Conv2D)            (None, 46, 46, 32)        832       \n_________________________________________________________________\nmax_pooling2d_1 (MaxPooling2 (None, 23, 23, 32)        0         \n_________________________________________________________________\nconv2d_2 (Conv2D)            (None, 19, 19, 64)        51264     \n_________________________________________________________________\nmax_pooling2d_2 (MaxPooling2 (None, 9, 9, 64)          0         \n_________________________________________________________________\nflatten_1 (Flatten)          (None, 5184)              0         \n_________________________________________________________________\ndense_1 (Dense)              (None, 1000)              5185000   \n_________________________________________________________________\ndense_2 (Dense)              (None, 67)                67067     \n=================================================================\nTotal params: 5,304,163\nTrainable params: 5,304,163\nNon-trainable params: 0\n_________________________________________________________________\n"
    }
   ],
   "source": [
    "# Model Summary of layers\n",
    "model.summary()"
   ]
  },
  {
   "cell_type": "code",
   "execution_count": 50,
   "metadata": {},
   "outputs": [
    {
     "name": "stdout",
     "output_type": "stream",
     "text": "Train on 11333 samples, validate on 351 samples\nEpoch 1/10\n11333/11333 [==============================] - 21s 2ms/step - loss: 8.9692 - accuracy: 0.0356 - val_loss: 4.0145 - val_accuracy: 0.0427\nEpoch 2/10\n11333/11333 [==============================] - 21s 2ms/step - loss: 3.9101 - accuracy: 0.0718 - val_loss: 3.9487 - val_accuracy: 0.0370\nEpoch 3/10\n11333/11333 [==============================] - 21s 2ms/step - loss: 3.6552 - accuracy: 0.1234 - val_loss: 3.9375 - val_accuracy: 0.0541\nEpoch 4/10\n11333/11333 [==============================] - 21s 2ms/step - loss: 3.3223 - accuracy: 0.1878 - val_loss: 3.9835 - val_accuracy: 0.0684\nEpoch 5/10\n11333/11333 [==============================] - 21s 2ms/step - loss: 2.8653 - accuracy: 0.2906 - val_loss: 4.1686 - val_accuracy: 0.0855\nEpoch 6/10\n11333/11333 [==============================] - 21s 2ms/step - loss: 2.3577 - accuracy: 0.4069 - val_loss: 4.4278 - val_accuracy: 0.0912\nEpoch 7/10\n11333/11333 [==============================] - 23s 2ms/step - loss: 1.8727 - accuracy: 0.5280 - val_loss: 4.9505 - val_accuracy: 0.0541\nEpoch 8/10\n11333/11333 [==============================] - 24s 2ms/step - loss: 1.3882 - accuracy: 0.6505 - val_loss: 5.6450 - val_accuracy: 0.0655\nEpoch 9/10\n11333/11333 [==============================] - 22s 2ms/step - loss: 1.0357 - accuracy: 0.7389 - val_loss: 6.1640 - val_accuracy: 0.0855\nEpoch 10/10\n11333/11333 [==============================] - 21s 2ms/step - loss: 0.7399 - accuracy: 0.8182 - val_loss: 6.8599 - val_accuracy: 0.0741\n"
    }
   ],
   "source": [
    "# Model Fit\n",
    "hist = model.fit(X_train, y_train, \n",
    "           batch_size=256, epochs=10, validation_split=0.03)"
   ]
  },
  {
   "cell_type": "markdown",
   "execution_count": null,
   "metadata": {},
   "outputs": [],
   "source": [
    "### Model Accuracy"
   ]
  },
  {
   "cell_type": "code",
   "execution_count": 51,
   "metadata": {},
   "outputs": [
    {
     "name": "stdout",
     "output_type": "stream",
     "text": "3895/3895 [==============================] - 2s 446us/step\n"
    },
    {
     "data": {
      "text/plain": "0.07779204100370407"
     },
     "execution_count": 51,
     "metadata": {},
     "output_type": "execute_result"
    }
   ],
   "source": [
    "model.evaluate(X_test, y_test)[1]"
   ]
  },
  {
   "cell_type": "markdown",
   "execution_count": null,
   "metadata": {},
   "outputs": [],
   "source": [
    "### Export the Model"
   ]
  },
  {
   "cell_type": "code",
   "execution_count": 52,
   "metadata": {},
   "outputs": [],
   "source": [
    "model.save('./output/cnn_model.h5') "
   ]
  }
 ],
 "metadata": {
  "kernelspec": {
   "display_name": "Python 3.7.4 64-bit",
   "language": "python",
   "name": "python37464bit4785123cf1534660adfe6f9a3548f6c1"
  },
  "language_info": {
   "codemirror_mode": {
    "name": "ipython",
    "version": 3
   },
   "file_extension": ".py",
   "mimetype": "text/x-python",
   "name": "python",
   "nbconvert_exporter": "python",
   "pygments_lexer": "ipython3",
   "version": "3.7.4-final"
  }
 },
 "nbformat": 4,
 "nbformat_minor": 2
}