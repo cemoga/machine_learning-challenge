{
 "cells": [
  {
   "cell_type": "code",
   "execution_count": 1,
   "metadata": {},
   "outputs": [],
   "source": [
    "# Python program to create \n",
    "# Image Classifier using CNN \n",
    "  \n",
    "# Importing the required libraries \n",
    "import cv2 \n",
    "import os \n",
    "import numpy as np \n",
    "from random import shuffle \n",
    "from tqdm import tqdm "
   ]
  },
  {
   "cell_type": "markdown",
   "metadata": {},
   "source": [
    "# Image database to Array Database"
   ]
  },
  {
   "cell_type": "markdown",
   "metadata": {},
   "source": [
    "## Loop to transform the database of all images to arrays database"
   ]
  },
  {
   "cell_type": "code",
   "execution_count": 2,
   "metadata": {},
   "outputs": [
    {
     "name": "stdout",
     "output_type": "stream",
     "text": "ratorywet/laboratorio_quimica_04_03_altavista.jpg\n./Images/laboratorywet/laboratorio_quimica_18_01_altavista.jpg\n./Images/laboratorywet/laboratorio_quimica_07_05_altavista.jpg\n./Images/laboratorywet/laboratorio_quimica_03_15_altavista.jpg\n./Images/laboratorywet/wet_lab_35_20_altavista.jpg\n./Images/laboratorywet/laboratorio_quimica_05_20_altavista.jpg\n./Images/laboratorywet/Wet_lab.jpg\n./Images/laboratorywet/laboratorio_quimica_18_12_altavista.jpg\n./Images/laboratorywet/wet_lab_09_01_altavista.jpg\n./Images/laboratorywet/laboratorio_quimica_01_09_altavista.jpg\n./Images/laboratorywet/wetlab.jpg\n./Images/laboratorywet/wet_lab_09_16_altavista.jpg\n./Images/laboratorywet/peterfeinph.jpg\n./Images/laboratorywet/laboratorio_quimica_13_01_altavista.jpg\n./Images/laboratorywet/laboratorio_quimica_17_11_altavista.jpg\n./Images/laboratorywet/wet_lab_06_11_altavista.jpg\n./Images/laboratorywet/laboratorio_quimica_14_04_altavista.jpg\n./Images/laboratorywet/wet_lab_02_16_altavista.jpg\n./Images/laboratorywet/Ion_Chromatography.jpg\n./Images/laboratorywet/laboratorio_quimica_17_15_altavista.jpg\n./Images/laboratorywet/laboratorio_quimica_13_12_altavista.jpg\n./Images/laboratorywet/laboratorio_quimica_14_14_altavista.jpg\n./Images/laboratorywet/laboratorio_quimica_14_03_altavista.jpg\n./Images/laboratorywet/wet_lab_38_01_altavista.jpg\n./Images/laboratorywet/laboratorio_quimica_17_12_altavista.jpg\n./Images/laboratorywet/wet_lab_27_12_altavista.jpg\n./Images/laboratorywet/wet_lab_05_10_altavista.jpg\n./Images/laboratorywet/wet_lab_01_17_altavista.jpg\n./Images/laboratorywet/wet_lab_45_04_altavista.jpg\n./Images/laboratorywet/wet_lab_46_11_altavista.jpg\n./Images/laboratorywet/wet_lab_06_12_altavista.jpg\n./Images/laboratorywet/laboratorio_quimica_02_08_altavista.jpg\n./Images/laboratorywet/laboratorio_quimica_07_06_altavista.jpg\n./Images/laboratorywet/laboratorio_quimica_07_11_altavista.jpg\n./Images/laboratorywet/wet_lab_28_11_altavista.jpg\n./Images/laboratorywet/nathanfeinlab.jpg\n./Images/laboratorywet/laboratorio_quimica_07_02_altavista.jpg\n./Images/laboratorywet/wet_lab_09_02_altavista.jpg\n./Images/laboratorywet/01exbiochem.jpg\n./Images/laboratorywet/wet_lab_24_11_altavista.jpg\n./Images/laboratorywet/laboratorio_quimica_10_01_altavista.jpg\n./Images/laboratorywet/wet_lab_40_18_altavista.jpg\n./Images/laboratorywet/laboratorio_quimica_08_13_altavista.jpg\n./Images/laboratorywet/wetlab2.jpg\n./Images/laboratorywet/wet_lab_03_19_altavista.jpg\n./Images/laboratorywet/Lab_3.jpg\n./Images/laboratorywet/Tissue_culture.jpg\n./Images/laboratorywet/laboratorio_quimica_10_05_altavista.jpg\n./Images/laboratorywet/teaching_lab.jpg\n./Images/laboratorywet/laboratorio_quimica_03_04_altavista.jpg\n./Images/laboratorywet/wet_lab_30_15_altavista.jpg\n./Images/laboratorywet/wet_lab_34_05_altavista.jpg\n./Images/laboratorywet/wet_lab_12_17_altavista.jpg\n./Images/laboratorywet/wet_lab_11_02_altavista.jpg\n./Images/laboratorywet/laboratorio_quimica_01_18_altavista.jpg\n./Images/laboratorywet/laboratorio_quimica_07_07_altavista.jpg\n./Images/laboratorywet/wet_lab_30_06_altavista.jpg\n./Images/laboratorywet/laboratorio_quimica_01_18_flickr.jpg\n./Images/laboratorywet/wet_lab_16_03_altavista.jpg\n./Images/laboratorywet/wet_lab_12_13_altavista.jpg\n./Images/laboratorywet/wet_lab_51_06_altavista.jpg\n./Images/laboratorywet/laboratorio_quimica_07_04_altavista.jpg\n./Images/laboratorywet/laboratorio_quimica_03_03_altavista.jpg\n./Images/laboratorywet/wet_lab_12_10_altavista.jpg\n./Images/laboratorywet/wet_lab_10_08_altavista.jpg\n./Images/laboratorywet/labmartiniempty.jpg\n./Images/laboratorywet/wet_lab_12_07_altavista.jpg\n./Images/laboratorywet/Wet Lab.jpg\n./Images/laboratorywet/wet_lab_27_14_altavista.jpg\n./Images/laboratorywet/wet_lab_06_07_altavista.jpg\n./Images/laboratorywet/Wet_Chem_Lab.jpg\n./Images/laboratorywet/laboratorio_quimica_14_01_altavista.jpg\n./Images/laboratorywet/wet_lab_39_17_altavista.jpg\n./Images/laboratorywet/wet_lab_25_15_altavista.jpg\n./Images/laboratorywet/wet_lab_22_14_altavista.jpg\n./Images/laboratorywet/wet_lab_03_14_altavista.jpg\n./Images/laboratorywet/wet_lab_43_17_altavista.jpg\n./Images/laboratorywet/laboratorio_quimica_11_01_altavista.jpg\n./Images/laboratorywet/wet_lab_04_02_altavista.jpg\n./Images/laboratorywet/wet_lab_37_19_altavista.jpg\n./Images/laboratorywet/wet_lab_17_14_altavista.jpg\n./Images/laboratorywet/wet_lab_13_04_altavista.jpg\n./Images/laboratorywet/laboratorio_quimica_02_17_altavista.jpg\n./Images/laboratorywet/wet_lab_10_15_altavista.jpg\n./Images/laboratorywet/wet_lab_08_10_altavista.jpg\n./Images/laboratorywet/wet_lab_35_12_altavista.jpg\n./Images/laboratorywet/Laboratory_1.jpg\n./Images/laboratorywet/wet_lab_13_10_altavista.jpg\n./Images/laboratorywet/senior_wet_lab_1.jpg\n./Images/laboratorywet/wet_lab_48_10_altavista.jpg\n./Images/laboratorywet/wet_lab_48_07_altavista.jpg\n./Images/laboratorywet/laboratorio_quimica_06_04_altavista.jpg\n./Images/laboratorywet/wet_lab_08_04_altavista.jpg\n./Images/laboratorywet/wet_lab_13_03_altavista.jpg\n./Images/laboratorywet/senior_wet_lab_2.jpg\n./Images/laboratorywet/laboratorio_quimica_17_20_altavista.jpg\n./Images/laboratorywet/lab_testing_i1.jpg\n./Images/restaurant_kitchen/restaurant_kitchen_google_0085.jpg\n./Images/restaurant_kitchen/restaurant_kitchen_google_0091.jpg\n./Images/restaurant_kitchen/restaurant_kitchen_google_0046.jpg\n./Images/restaurant_kitchen/restaurant_kitchen_google_0052.jpg\n./Images/restaurant_kitchen/restaurant_kitchen_google_0053.jpg\n./Images/restaurant_kitchen/restaurant_kitchen_google_0047.jpg\n./Images/restaurant_kitchen/restaurant_kitchen_google_0090.jpg\n./Images/restaurant_kitchen/restaurant_kitchen_google_0084.jpg\n./Images/restaurant_kitchen/restaurant_kitchen_google_0092.jpg\n./Images/restaurant_kitchen/restaurant_kitchen_google_0086.jpg\n./Images/restaurant_kitchen/restaurant_kitchen_google_0079.jpg\n./Images/restaurant_kitchen/restaurant_kitchen_google_0051.jpg\n./Images/restaurant_kitchen/restaurant_kitchen_google_0045.jpg\n./Images/restaurant_kitchen/restaurant_kitchen_google_0044.jpg\n./Images/restaurant_kitchen/restaurant_kitchen_google_0078.jpg\n./Images/restaurant_kitchen/restaurant_kitchen_google_0087.jpg\n./Images/restaurant_kitchen/restaurant_kitchen_google_0093.jpg\n./Images/restaurant_kitchen/restaurant_kitchen_google_0097.jpg\n./Images/restaurant_kitchen/restaurant_kitchen_google_0083.jpg\n./Images/restaurant_kitchen/restaurant_kitchen_google_0054.jpg\n./Images/restaurant_kitchen/restaurant_kitchen_google_0040.jpg\n./Images/restaurant_kitchen/restaurant_kitchen_google_0068.jpg\n./Images/restaurant_kitchen/restaurant_kitchen_google_0108.jpg\n./Images/restaurant_kitchen/restaurant_kitchen_google_0069.jpg\n./Images/restaurant_kitchen/restaurant_kitchen_google_0041.jpg\n./Images/restaurant_kitchen/restaurant_kitchen_google_0055.jpg\n./Images/restaurant_kitchen/restaurant_kitchen_google_0082.jpg\n./Images/restaurant_kitchen/restaurant_kitchen_google_0096.jpg\n./Images/restaurant_kitchen/restaurant_kitchen_google_0080.jpg\n./Images/restaurant_kitchen/restaurant_kitchen_google_0094.jpg\n./Images/restaurant_kitchen/restaurant_kitchen_google_0043.jpg\n./Images/restaurant_kitchen/restaurant_kitchen_google_0057.jpg\n./Images/restaurant_kitchen/restaurant_kitchen_google_0056.jpg\n./Images/restaurant_kitchen/restaurant_kitchen_google_0042.jpg\n./Images/restaurant_kitchen/restaurant_kitchen_google_0095.jpg\n./Images/restaurant_kitchen/restaurant_kitchen_google_0081.jpg\n./Images/restaurant_kitchen/restaurant_kitchen_google_0019.jpg\n./Images/restaurant_kitchen/restaurant_kitchen_google_0025.jpg\n./Images/restaurant_kitchen/restaurant_kitchen_google_0031.jpg\n./Images/restaurant_kitchen/restaurant_kitchen_google_0030.jpg\n./Images/restaurant_kitchen/restaurant_kitchen_google_0024.jpg\n./Images/restaurant_kitchen/restaurant_kitchen_google_0018.jpg\n./Images/restaurant_kitchen/restaurant_kitchen_google_0032.jpg\n./Images/restaurant_kitchen/restaurant_kitchen_google_0026.jpg\n./Images/restaurant_kitchen/restaurant_kitchen_google_0027.jpg\n./Images/restaurant_kitchen/restaurant_kitchen_google_0033.jpg\n./Images/restaurant_kitchen/restaurant_kitchen_google_0037.jpg\n./Images/restaurant_kitchen/restaurant_kitchen_google_0023.jpg\n./Images/restaurant_kitchen/restaurant_kitchen_google_0022.jpg\n./Images/restaurant_kitchen/restaurant_kitchen_google_0036.jpg\n./Images/restaurant_kitchen/restaurant_kitchen_google_0020.jpg\n./Images/restaurant_kitchen/restaurant_kitchen_google_0034.jpg\n./Images/restaurant_kitchen/restaurant_kitchen_google_0008.jpg\n./Images/restaurant_kitchen/restaurant_kitchen_google_0009.jpg\n./Images/restaurant_kitchen/restaurant_kitchen_google_0035.jpg\n./Images/restaurant_kitchen/restaurant_kitchen_google_0021.jpg\n./Images/restaurant_kitchen/restaurant_kitchen_google_0038.jpg\n./Images/restaurant_kitchen/restaurant_kitchen_google_0004.jpg\n./Images/restaurant_kitchen/restaurant_kitchen_google_0010.jpg\n./Images/restaurant_kitchen/restaurant_kitchen_google_0011.jpg\n./Images/restaurant_kitchen/restaurant_kitchen_google_0005.jpg\n./Images/restaurant_kitchen/restaurant_kitchen_google_0039.jpg\n./Images/restaurant_kitchen/restaurant_kitchen_google_0013.jpg\n./Images/restaurant_kitchen/restaurant_kitchen_google_0007.jpg\n./Images/restaurant_kitchen/restaurant_kitchen_google_0006.jpg\n./Images/restaurant_kitchen/restaurant_kitchen_google_0012.jpg\n./Images/restaurant_kitchen/restaurant_kitchen_google_0016.jpg\n./Images/restaurant_kitchen/restaurant_kitchen_google_0002.jpg\n./Images/restaurant_kitchen/restaurant_kitchen_google_0003.jpg\n./Images/restaurant_kitchen/restaurant_kitchen_google_0017.jpg\n./Images/restaurant_kitchen/restaurant_kitchen_google_0001.jpg\n./Images/restaurant_kitchen/restaurant_kitchen_google_0015.jpg\n./Images/restaurant_kitchen/restaurant_kitchen_google_0029.jpg\n./Images/restaurant_kitchen/restaurant_kitchen_google_0028.jpg\n./Images/restaurant_kitchen/restaurant_kitchen_google_0014.jpg\n./Images/restaurant_kitchen/restaurant_kitchen_google_0098.jpg\n./Images/restaurant_kitchen/restaurant_kitchen_google_0067.jpg\n./Images/restaurant_kitchen/restaurant_kitchen_google_0073.jpg\n./Images/restaurant_kitchen/restaurant_kitchen_google_0107.jpg\n./Images/restaurant_kitchen/restaurant_kitchen_google_0106.jpg\n./Images/restaurant_kitchen/restaurant_kitchen_google_0072.jpg\n./Images/restaurant_kitchen/restaurant_kitchen_google_0066.jpg\n./Images/restaurant_kitchen/restaurant_kitchen_google_0099.jpg\n./Images/restaurant_kitchen/restaurant_kitchen_google_0058.jpg\n./Images/restaurant_kitchen/restaurant_kitchen_google_0070.jpg\n./Images/restaurant_kitchen/restaurant_kitchen_google_0064.jpg\n./Images/restaurant_kitchen/restaurant_kitchen_google_0104.jpg\n./Images/restaurant_kitchen/restaurant_kitchen_google_0105.jpg\n./Images/restaurant_kitchen/restaurant_kitchen_google_0065.jpg\n./Images/restaurant_kitchen/restaurant_kitchen_google_0071.jpg\n./Images/restaurant_kitchen/restaurant_kitchen_google_0059.jpg\n./Images/restaurant_kitchen/restaurant_kitchen_google_0075.jpg\n./Images/restaurant_kitchen/restaurant_kitchen_google_0061.jpg\n./Images/restaurant_kitchen/restaurant_kitchen_google_0049.jpg\n./Images/restaurant_kitchen/restaurant_kitchen_google_0101.jpg\n./Images/restaurant_kitchen/restaurant_kitchen_google_0100.jpg\n./Images/restaurant_kitchen/restaurant_kitchen_google_0048.jpg\n./Images/restaurant_kitchen/restaurant_kitchen_google_0060.jpg\n./Images/restaurant_kitchen/restaurant_kitchen_google_0074.jpg\n./Images/restaurant_kitchen/restaurant_kitchen_google_0089.jpg\n./Images/restaurant_kitchen/restaurant_kitchen_google_0062.jpg\n./Images/restaurant_kitchen/restaurant_kitchen_google_0076.jpg\n./Images/restaurant_kitchen/restaurant_kitchen_google_0102.jpg\n./Images/restaurant_kitchen/restaurant_kitchen_google_0103.jpg\n./Images/restaurant_kitchen/restaurant_kitchen_google_0077.jpg\n./Images/restaurant_kitchen/restaurant_kitchen_google_0063.jpg\n./Images/restaurant_kitchen/restaurant_kitchen_google_0088.jpg\n./Images/fastfood_restaurant/800px_Nandos_dhanmondi.jpg\n./Images/fastfood_restaurant/food_450.jpg\n./Images/fastfood_restaurant/taco_bell_waikiki_counter.jpg\n./Images/fastfood_restaurant/pizzahut_storefront0308.jpg\n./Images/fastfood_restaurant/hut4.jpg\n./Images/fastfood_restaurant/1213796_gross_burger_king_0.jpg\n./Images/fastfood_restaurant/cam2_big.jpg\n./Images/fastfood_restaurant/resto.jpg\n./Images/fastfood_restaurant/149212593_1abe45be1e.jpg\n./Images/fastfood_restaurant/arbys4.jpg\n./Images/fastfood_restaurant/DSC00472.jpg\n./Images/fastfood_restaurant/dining_room.jpg\n./Images/fastfood_restaurant/2006_07_arbys.jpg\n./Images/fastfood_restaurant/BurgerKing.jpg\n./Images/fastfood_restaurant/DSC00471.jpg\n./Images/fastfood_restaurant/ElRapido.jpg\n./Images/fastfood_restaurant/T_C_2.jpg\n./Images/fastfood_restaurant/quiznos3.jpg\n./Images/fastfood_restaurant/mcdonalds.jpg\n./Images/fastfood_restaurant/866_camilles_3_adamo_standalone_prod_affiliate_25.jpg\n./Images/fastfood_restaurant/Siem_Reap_airport_Dairy_Queen.jpg\n./Images/fastfood_restaurant/DSC00476.jpg\n./Images/fastfood_restaurant/12_440x328.jpg\n./Images/fastfood_restaurant/showcase_2_177.jpg\n./Images/fastfood_restaurant/hut1.jpg\n./Images/fastfood_restaurant/PH_ROCHESTER_INT3.jpg\n./Images/fastfood_restaurant/fast_food_restaurant.jpg\n./Images/fastfood_restaurant/pizza_hut_big.jpg\n./Images/fastfood_restaurant/blimpie.jpg\n./Images/fastfood_restaurant/Blimpie21.jpg\n./Images/fastfood_restaurant/chick_fil_a.jpg\n./Images/fastfood_restaurant/x_panda.jpg\n./Images/fastfood_restaurant/DSC00477.jpg\n./Images/fastfood_restaurant/chickfila2.jpg\n./Images/fastfood_restaurant/CIMG0334_resize.jpg\n./Images/fastfood_restaurant/yakitori_house_counter.jpg\n./Images/fastfood_restaurant/800px_Lincoln_park_chicago_qdoba.jpg\n./Images/fastfood_restaurant/barinfireworks.jpg\n./Images/fastfood_restaurant/MidCitySubway1YrPostKB.jpg\n./Images/fastfood_restaurant/1125071734.jpg\n./Images/fastfood_restaurant/chip2.jpg\n./Images/fastfood_restaurant/539w.jpg\n./Images/fastfood_restaurant/KFC_Interior_2.jpg\n./Images/fastfood_restaurant/restaurant_panda.jpg\n./Images/fastfood_restaurant/Carl_s_Jr_Green_Burrito_counter_in_SSF.jpg\n./Images/fastfood_restaurant/30835528_scaled_408x271.jpg\n./Images/fastfood_restaurant/32_The_Angkor_Fast_Food_Restaurant.jpg\n./Images/fastfood_restaurant/B_CInside.jpg\n./Images/fastfood_restaurant/cam1_big.jpg\n./Images/fastfood_restaurant/2008_02_mcdonalds_thumb.jpg\n./Images/fastfood_restaurant/KFC_Interior_1.jpg\n./Images/fastfood_restaurant/HTC_fast_food_restaurant.jpg\n./Images/fastfood_restaurant/114543829_e8ef2f7e7e.jpg\n./Images/fastfood_restaurant/restaurant.jpg\n./Images/fastfood_restaurant/Camille_s_027.jpg\n./Images/fastfood_restaurant/Blimpie_Columbia_002.jpg\n./Images/fastfood_restaurant/Taco_Bell_7.jpg\n./Images/fastfood_restaurant/quiznos020508a.jpg\n./Images/fastfood_restaurant/Pizza_Hut_2.jpg\n./Images/fastfood_restaurant/32170441.jpg\n./Images/fastfood_restaurant/101_0301.jpg\n./Images/fastfood_restaurant/ATCS_14_TacoBell.jpg\n./Images/fastfood_restaurant/buffet2.jpg\n./Images/fastfood_restaurant/rss_d.jpg\n./Images/fastfood_restaurant/fastfood01.jpg\n./Images/fastfood_restaurant/KrispyKreme1.jpg\n./Images/fastfood_restaurant/451033421_2252a21567.jpg\n./Images/fastfood_restaurant/dsc00878smdj1.jpg\n./Images/fastfood_restaurant/fiveguys.jpg\n./Images/fastfood_restaurant/pizza_hut.jpg\n./Images/fastfood_restaurant/blimpies.jpg\n./Images/fastfood_restaurant/Taco_Bell_8.jpg\n./Images/fastfood_restaurant/url.jpg\n./Images/fastfood_restaurant/Taco_Bell_9.jpg\n./Images/fastfood_restaurant/quick.jpg\n./Images/fastfood_restaurant/358x283.jpg\n./Images/fastfood_restaurant/snack.jpg\n./Images/fastfood_restaurant/dunkin_donuts.jpg\n./Images/fastfood_restaurant/baja_fresh_restaurant_inside.jpg\n./Images/fastfood_restaurant/442a2fd659407_81_1.jpg\n./Images/fastfood_restaurant/dscn0267.jpg\n./Images/fastfood_restaurant/2274247982_b8a09af8c5.jpg\n./Images/fastfood_restaurant/CamilesCafe01.jpg\n./Images/fastfood_restaurant/guest3.jpg\n./Images/fastfood_restaurant/HK_Pizza_Hut.jpg\n./Images/fastfood_restaurant/colorado_springs_chipotle6.jpg\n./Images/fastfood_restaurant/quiznos1b.jpg\n./Images/fastfood_restaurant/universitycenter056.jpg\n./Images/fastfood_restaurant/Pizza_hut_express.jpg\n./Images/fastfood_restaurant/P1020181.jpg\n./Images/fastfood_restaurant/fast_food_restaurant_pef05022.jpg\n./Images/fastfood_restaurant/OrangeIn.jpg\n./Images/fastfood_restaurant/NYBCinside1.jpg\n./Images/fastfood_restaurant/99004_inside.jpg\n./Images/fastfood_restaurant/DSC06236.jpg\n./Images/fastfood_restaurant/DSCF0039.jpg\n./Images/fastfood_restaurant/Godfathers_Knoxville_1.jpg\n./Images/fastfood_restaurant/fast_food_restaurants.jpg\n./Images/fastfood_restaurant/Img_2369a.jpg\n./Images/fastfood_restaurant/p374062_Fajardo_El_Pollo_Tropical.jpg\n./Images/fastfood_restaurant/EnfieldTB.jpg\n./Images/fastfood_restaurant/26338834.jpg\n./Images/fastfood_restaurant/DSC00478.jpg\n./Images/fastfood_restaurant/6.jpg\n./Images/fastfood_restaurant/DSC00332.jpg\n./Images/fastfood_restaurant/Arbys_2.jpg\n./Images/fastfood_restaurant/Subway1.jpg\n./Images/fastfood_restaurant/Papa_John_s_at_the_Al_Seef_Mall.jpg\n./Images/fastfood_restaurant/3.jpg\n./Images/fastfood_restaurant/B2.jpg\n./Images/fastfood_restaurant/chipolte2.jpg\n./Images/fastfood_restaurant/fast_food_restaurant_gh.jpg\n./Images/classroom/Classroom1.jpg\n./Images/classroom/IM000808.jpg\n./Images/classroom/IM000820.jpg\n./Images/classroom/ClassroomElem.jpg\n./Images/classroom/P1010077.jpg\n./Images/classroom/classroom_001.jpg\n./Images/classroom/photo_classroom.jpg\n./Images/classroom/american_history_classroom.jpg\n./Images/classroom/AULA3C_1TAMAOGRANDE.jpg\n./Images/classroom/classroom2.jpg\n./Images/classroom/G28bsdc.jpg\n./Images/classroom/Im423_5.jpg\n./Images/classroom/classroom1176.jpg\n./Images/classroom/Level_6_C_classroom.jpg\n./Images/classroom/classroom3.jpg\n./Images/classroom/web_lalemant.jpg\n./Images/classroom/classroom7.jpg\n./Images/classroom/img_0006.jpg\n./Images/classroom/reportage_322_4.jpg\n./Images/classroom/classroom_006.jpg\n./Images/classroom/sala_convegni.jpg\n./Images/classroom/img_0007.jpg\n./Images/classroom/classroom6.jpg\n./Images/classroom/DCP_1461grande.jpg\n./Images/classroom/Classroom4.jpg\n./Images/classroom/salle_24.jpg\n./Images/classroom/int57.jpg\n./Images/classroom/236254301_fa02eae064.jpg\n./Images/classroom/salleXL.jpg\n./Images/classroom/dark_empty_classroom.jpg\n./Images/classroom/Japanese_classroom.jpg\n./Images/classroom/CEC_208_classroom.jpg\n./Images/classroom/classroom5.jpg\n./Images/classroom/sdeclasse2.jpg\n./Images/classroom/Tour_Franco_Classroom157_Side_rdax_90.jpg\n./Images/classroom/classroom12.jpg\n./Images/classroom/classroom06.jpg\n./Images/classroom/izieu_classe.jpg\n./Images/classroom/class_room_2.jpg\n./Images/classroom/CLASSE3.jpg\n./Images/classroom/image17.jpg\n./Images/classroom/classroom05.jpg\n./Images/classroom/Classroom11.jpg\n./Images/classroom/195707530_69d72677ab.jpg\n./Images/classroom/classroom10.jpg\n./Images/classroom/classroom04.jpg\n./Images/classroom/salle_classe2.jpg\n./Images/classroom/Kindergarden_classroom.jpg\n./Images/classroom/fouarre_classroom_02.jpg\n./Images/classroom/classroom_710755.jpg\n./Images/classroom/classroom_front.jpg\n./Images/classroom/fourmies_ecomusee2.jpg\n./Images/classroom/int115.jpg\n./Images/classroom/30_AvH_112_classroom.jpg\n./Images/classroom/salle_de_classe67.jpg\n./Images/classroom/aulainfantil.jpg\n./Images/classroom/auingl.jpg\n./Images/classroom/AULA11_1TAMAOGRANDE.jpg\n./Images/classroom/classroom03.jpg\n./Images/classroom/sala_aula.jpg\n./Images/classroom/classroom02.jpg\n./Images/classroom/salle_2.jpg\n./Images/classroom/int116.jpg\n./Images/classroom/groupe_scolaire_2.jpg\n./Images/classroom/scuola06_4.jpg\n./Images/classroom/sala01.jpg\n./Images/classroom/aulas_007.jpg\n./Images/classroom/rdg1.jpg\n./Images/classroom/IGLOBE.jpg\n./Images/classroom/file_279474_23340.jpg\n./Images/classroom/Imagen_008.jpg\n./Images/classroom/02_3_Day_Classroom_Overview.jpg\n./Images/classroom/salle_de_cours_2.jpg\n./Images/classroom/web_classe.jpg\n./Images/classroom/sala02.jpg\n./Images/classroom/p114_a5dd1d7d043b6fe2e8790dfb7a634028pict0004.jpg\n"
    }
   ],
   "source": [
    "import os\n",
    "from tensorflow.keras.preprocessing import image\n",
    "from tensorflow.keras.preprocessing.image import img_to_array\n",
    "\n",
    "# Path for looking all jpg files\n",
    "path = './Images/'\n",
    "\n",
    "# All path files for jpg files contained in the files list\n",
    "files = []\n",
    "# r=root, d=directories, f = files\n",
    "for r, d, f in os.walk(path):\n",
    "    for file in f:\n",
    "        if '.jpg' in file:\n",
    "            if 'gif' not in file:\n",
    "                if 'bar_0527.jpg' not in file:\n",
    "                    files.append(os.path.join(r, file))\n",
    "\n",
    "# Use it for testing the code. It limits the files to 10 files\n",
    "# files = files[0:10]\n",
    "\n",
    "# Convert all images in a Database\n",
    "data = []\n",
    "X = []\n",
    "y = []\n",
    "for f in files:\n",
    "    print(f)\n",
    "    # Import the Image\n",
    "    filepath = f\n",
    "    image_size = 50\n",
    "    LR = 1e-3\n",
    "    # img = cv2.imread(filepath, cv2.IMREAD_GRAYSCALE) \n",
    "    img = cv2.imread(filepath, 0) \n",
    "    img = cv2.resize(img, (image_size, image_size))\n",
    "    X.append(img)\n",
    "    # Extract the folder name from each path\n",
    "    # Get the directory name from the specified path \n",
    "    dirname = os.path.dirname(filepath)\n",
    "    # Replace the initial part of the folder to leave just the folder name\n",
    "    dirname = dirname.replace(\"./Images/\", \"\")\n",
    "    y.append(dirname)\n",
    "    data.append([np.array(X),np.array(y)])\n",
    "\n",
    "# suffle(data)"
   ]
  },
  {
   "cell_type": "code",
   "execution_count": 0,
   "metadata": {},
   "outputs": [],
   "source": [
    "len(X)"
   ]
  },
  {
   "cell_type": "code",
   "execution_count": 0,
   "metadata": {},
   "outputs": [],
   "source": [
    "# Test X\n",
    "X"
   ]
  },
  {
   "cell_type": "code",
   "execution_count": 0,
   "metadata": {},
   "outputs": [],
   "source": [
    "# Test y\n",
    "y"
   ]
  },
  {
   "cell_type": "code",
   "execution_count": 0,
   "metadata": {},
   "outputs": [],
   "source": [
    "data"
   ]
  },
  {
   "cell_type": "code",
   "execution_count": 0,
   "metadata": {},
   "outputs": [],
   "source": [
    "np.save('X.npy', X)\n",
    "np.save('y.npy', y)\n",
    "np.save('data.npy', data)"
   ]
  },
  {
   "cell_type": "code",
   "execution_count": null,
   "metadata": {},
   "outputs": [],
   "source": []
  }
 ],
 "metadata": {
  "kernelspec": {
   "display_name": "Python 3.7.4 64-bit ('python37': conda)",
   "language": "python",
   "name": "python37464bitpython37conda460d2abef60b4205a86511a885c4492d"
  },
  "language_info": {
   "codemirror_mode": {
    "name": "ipython",
    "version": 3
   },
   "file_extension": ".py",
   "mimetype": "text/x-python",
   "name": "python",
   "nbconvert_exporter": "python",
   "pygments_lexer": "ipython3",
   "version": "3.7.4-final"
  }
 },
 "nbformat": 4,
 "nbformat_minor": 2
}