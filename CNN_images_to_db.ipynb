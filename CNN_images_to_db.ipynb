{
 "cells": [
  {
   "source": [
    "# Python program to create \n",
    "# Image Classifier using CNN \n",
    "  \n",
    "# Importing the required libraries \n",
    "import cv2 \n",
    "import os \n",
    "import numpy as np \n",
    "from random import shuffle \n",
    "from tqdm import tqdm "
   ],
   "cell_type": "code",
   "outputs": [],
   "metadata": {},
   "execution_count": 1
  },
  {
   "cell_type": "markdown",
   "metadata": {},
   "source": [
    "# Image database to Array Database"
   ]
  },
  {
   "cell_type": "markdown",
   "metadata": {},
   "source": [
    "## Loop to transform the database of all images to arrays database"
   ]
  },
  {
   "source": [
    "import os\n",
    "from tensorflow.keras.preprocessing import image\n",
    "from tensorflow.keras.preprocessing.image import img_to_array\n",
    "\n",
    "# Path for looking all jpg files\n",
    "path = './Images/'\n",
    "\n",
    "# All path files for jpg files contained in the files list\n",
    "files = []\n",
    "# r=root, d=directories, f = files\n",
    "for r, d, f in os.walk(path):\n",
    "    for file in f:\n",
    "        if '.jpg' in file:\n",
    "            if 'gif' not in file:\n",
    "                if 'bar_0527.jpg' not in file:\n",
    "                    files.append(os.path.join(r, file))\n",
    "\n",
    "# Use it for testing the code. It limits the files to 10 files\n",
    "# files = files[0:10]\n",
    "\n",
    "# Convert all images in a Database\n",
    "data = []\n",
    "X = []\n",
    "y = []\n",
    "for f in files:\n",
    "    print(f)\n",
    "    # Import the Image\n",
    "    filepath = f\n",
    "    image_size = 50\n",
    "    LR = 1e-3\n",
    "    # img = cv2.imread(filepath, cv2.IMREAD_GRAYSCALE) \n",
    "    img = cv2.imread(filepath, 0) \n",
    "    img = cv2.resize(img, (image_size, image_size))\n",
    "    X.append(img)\n",
    "    # Extract the folder name from each path\n",
    "    # Get the directory name from the specified path \n",
    "    dirname = os.path.dirname(filepath)\n",
    "    # Replace the initial part of the folder to leave just the folder name\n",
    "    dirname = dirname.replace(\"./Images/\", \"\")\n",
    "    y.append(dirname)\n",
    "    data.append([np.array(X),np.array(y)])\n",
    "\n",
    "# suffle(data)"
   ],
   "cell_type": "code",
   "outputs": [
    {
     "output_type": "stream",
     "name": "stdout",
     "text": "/Images/toystore/toys_store_14_15_altavista.jpg\n./Images/toystore/jugueteria_14_06_flickr.jpg\n./Images/toystore/Spielzeug_26_24_flickr.jpg\n./Images/toystore/Spielzeug_22_08_yahoo.jpg\n./Images/toystore/magasin.jpg\n./Images/toystore/jugueteria_08_02_flickr.jpg\n./Images/toystore/RESIDENCIA_008.jpg\n./Images/toystore/n7.jpg\n./Images/toystore/Spielzeug_05_06_yahoo.jpg\n./Images/toystore/5.jpg\n./Images/toystore/jugueteria_09_01_flickr.jpg\n./Images/toystore/gs_toys_lg.jpg\n./Images/toystore/Spielzeug_24_11_altavista.jpg\n./Images/toystore/7.jpg\n./Images/toystore/giocattolo_32_19_altavista.jpg\n./Images/toystore/r_5.jpg\n./Images/toystore/jugueteria_24_15_flickr.jpg\n./Images/toystore/jouets3.jpg\n./Images/toystore/n5.jpg\n./Images/toystore/jugueteria_24_22_flickr.jpg\n./Images/toystore/jugueteria_25_16_flickr.jpg\n./Images/toystore/speelgoed_55_18_flickr.jpg\n./Images/toystore/213289035_28528f86e0.jpg\n./Images/toystore/speelgoed_45_01_flickr.jpg\n./Images/toystore/toys_store_07_14_altavista.jpg\n./Images/toystore/jugueteria_11_11_yahoo.jpg\n./Images/toystore/jugueteria_10_17_yahoo.jpg\n./Images/toystore/toys_store_45_18_altavista.jpg\n./Images/toystore/toys_store_27_19_altavista.jpg\n./Images/toystore/Spielzeug_14_08_yahoo.jpg\n./Images/toystore/jugueteria_06_08_flickr.jpg\n./Images/toystore/Spielzeug_50_15_flickr.jpg\n./Images/toystore/Spielzeug_123_17_flickr.jpg\n./Images/toystore/2406613109_79a9a378ff.jpg\n./Images/toystore/2406613103_e9ee362f6c.jpg\n./Images/toystore/toys_store_04_01_altavista.jpg\n./Images/toystore/d4k_002.jpg\n./Images/toystore/toys_store_43_03_altavista.jpg\n./Images/toystore/jugueteria_19_22_flickr.jpg\n./Images/toystore/jugueteria_08_09_yahoo.jpg\n./Images/toystore/speelgoed_35_12_altavista.jpg\n./Images/toystore/company02.jpg\n./Images/toystore/jugueteria_03_12_flickr.jpg\n./Images/toystore/toys_store_03_10_altavista.jpg\n./Images/toystore/Spielzeug_04_06_yahoo.jpg\n./Images/toystore/jugueteria_16_14_flickr.jpg\n./Images/toystore/toys_store_01_08_altavista.jpg\n./Images/toystore/jugueteria_09_22_flickr.jpg\n./Images/toystore/d4k_006.jpg\n./Images/toystore/speelgoed_11_08_altavista.jpg\n./Images/toystore/jugueteria_08_21_flickr.jpg\n./Images/toystore/Spielzeug_70_20_flickr.jpg\n./Images/toystore/toys_store_23_20_altavista.jpg\n./Images/toystore/jugueteria_18_13_flickr.jpg\n./Images/toystore/jugueteria_23_22_flickr.jpg\n./Images/toystore/lcb_museu_joguets.jpg\n./Images/toystore/giocattolo_12_13_altavista.jpg\n./Images/toystore/d4k_007.jpg\n./Images/toystore/322627515_6a6372d7a5.jpg\n./Images/toystore/Spielzeug_101_24_flickr.jpg\n./Images/toystore/jugueteria_16_08_flickr.jpg\n./Images/toystore/Spielzeug_83_03_flickr.jpg\n./Images/toystore/jugueteria_21_24_flickr.jpg\n./Images/toystore/n1.jpg\n./Images/toystore/speelgoed_78_15_flickr.jpg\n./Images/toystore/jouets5.jpg\n./Images/toystore/250507130dh3.jpg\n./Images/toystore/toys_store_14_12_altavista.jpg\n./Images/toystore/Spielzeug_12_23_flickr.jpg\n./Images/toystore/JapaneseToyStore_1200W.jpg\n./Images/toystore/299724113_39b3a2b7f8.jpg\n./Images/toystore/jugueteria_16_19_flickr.jpg\n./Images/toystore/photo44.jpg\n./Images/toystore/toys_store_36_07_altavista.jpg\n./Images/toystore/jugueteria_19_01_flickr.jpg\n./Images/toystore/P1020153.jpg\n./Images/toystore/jugueteria_10_03_flickr.jpg\n./Images/toystore/PICT0004_png.jpg\n./Images/toystore/20070828052224875.jpg\n./Images/toystore/speelgoed_46_10_flickr.jpg\n./Images/toystore/305015506_6df5016b5c.jpg\n./Images/toystore/imgp0927web.jpg\n./Images/toystore/store_thomas.jpg\n./Images/toystore/store_infant8.jpg\n./Images/toystore/d4k_004.jpg\n./Images/toystore/spider_knife_low.jpg\n./Images/toystore/Spielzeug_85_23_flickr.jpg\n./Images/toystore/jugueteria_23_18_flickr.jpg\n./Images/children_room/SD_00_03_4446_23_l.jpg\n./Images/children_room/playroom1_53_.jpg\n./Images/children_room/adler_pink_kids_room.jpg\n./Images/children_room/LV_98_3_7013_14_l.jpg\n./Images/children_room/PO_06_02_2000_71_l.jpg\n./Images/children_room/kids_playroom_zurich_45_.jpg\n./Images/children_room/img_9978_26_.jpg\n./Images/children_room/dscn0208_15_.jpg\n./Images/children_room/indoor_playroom_27_.jpg\n./Images/children_room/playroom0_002_52_.jpg\n./Images/children_room/AT_04_05_6000_54_l.jpg\n./Images/children_room/playroom3_62_.jpg\n./Images/children_room/PO_06_03_3000_56_l.jpg\n./Images/children_room/90906stacysplayroomafter004_w300h225_9_.jpg\n./Images/children_room/kids2_46_.jpg\n./Images/children_room/PO_06_03_3000_76_l.jpg\n./Images/children_room/AT_99_1_7839_22_l.jpg\n./Images/children_room/playroom4500_64_.jpg\n./Images/children_room/playroom_lg_35_.jpg\n./Images/children_room/hiemstra_011_19_.jpg\n./Images/children_room/kids_in_the_playroom_44_.jpg\n./Images/children_room/playroom_furniture_49_.jpg\n./Images/children_room/_kids_rooms_38_.jpg\n./Images/children_room/after_playroom_2005b_39_.jpg\n./Images/children_room/playroom28_61_.jpg\n./Images/children_room/our_house_043_48_.jpg\n./Images/children_room/playroom_0506_33_.jpg\n./Images/children_room/img_0194_21_.jpg\n./Images/children_room/playroom_500_67_.jpg\n./Images/children_room/playroom11_55_.jpg\n./Images/children_room/1_playroom_5_jpg_6_.jpg\n./Images/children_room/playroom15_57_.jpg\n./Images/children_room/AT_04_02_3000_55_l.jpg\n./Images/children_room/cimg1971_11_.jpg\n./Images/children_room/playroom10_54_.jpg\n./Images/children_room/opt_playroom_tepee_47_.jpg\n./Images/children_room/HO_00_02_5271_23_l.jpg\n./Images/children_room/web_playroom_70_.jpg\n./Images/children_room/br3playroom_10_.jpg\n./Images/children_room/ft_playroom01_l_43_.jpg\n./Images/children_room/HO_06_02_2000_81_l.jpg\n./Images/children_room/AT_99_2_8171_36_l.jpg\n./Images/children_room/VR_06_01_1001_06_l.jpg\n./Images/children_room/2369460826_37998bb932_7_.jpg\n./Images/children_room/AT_01_2B_5493_35_l.jpg\n./Images/children_room/100_1678_4_.jpg\n./Images/children_room/playroom6_31_.jpg\n./Images/children_room/VR_06_02_2000_59_l.jpg\n./Images/children_room/AT_00_05_8295_30_l.jpg\n./Images/children_room/AT_01_3B_5486_10_l.jpg\n./Images/children_room/img_1896_23_.jpg\n./Images/children_room/playroom2_30_.jpg\n./Images/children_room/playroom26_60_.jpg\n./Images/children_room/img_3971_25_.jpg\n./Images/children_room/playroom_261100837_std_29_.jpg\n./Images/children_room/VA_03_00_0003_44_l.jpg\n./Images/children_room/img_3808_24_.jpg\n./Images/children_room/LV_00_03_2844_08_l.jpg\n./Images/children_room/dsc02536_main_full_14_.jpg\n./Images/children_room/AT_98_5_989_08_l.jpg\n./Images/children_room/western_playroom_71_.jpg\n./Images/children_room/dramatic_play_room_42_.jpg\n./Images/children_room/AT_04_02_3000_46_l.jpg\n./Images/children_room/playroom_000_66_.jpg\n./Images/children_room/dsc01584_13_.jpg\n./Images/children_room/OR_99_1_4913_31_l.jpg\n./Images/children_room/083008_saturday_24__3_.jpg\n./Images/children_room/VA_05_03_8000_49_l.jpg\n./Images/children_room/VA_03_00_0003_42_l.jpg\n./Images/children_room/AT_99_1_7838_12A_l.jpg\n./Images/children_room/06playroom_2_.jpg\n./Images/children_room/LV_04_04_0004_53_l.jpg\n./Images/children_room/bec438b5_c449_400d_a0b3_e9f9309c0d7e_player_41_.jpg\n./Images/children_room/playroom_decorating_ideas_239_51_.jpg\n./Images/children_room/playroom7_65_.jpg\n./Images/children_room/AT_04_04_2000_78_l.jpg\n./Images/children_room/dsc_0090_16_.jpg\n./Images/children_room/reading_circle_time_37_.jpg\n./Images/children_room/VA_05_20_0020_15_l.jpg\n./Images/children_room/AT_99_6_8883_12_l.jpg\n./Images/children_room/TA_99_3_0523_01_l.jpg\n./Images/children_room/VA_05_02_8100_37_l.jpg\n./Images/children_room/skd_photo_playroom_69_.jpg\n./Images/children_room/VR_06_01_1000_95_l.jpg\n./Images/children_room/pippins_main_play_room_28_.jpg\n./Images/children_room/playroom20_59_.jpg\n./Images/children_room/OR_99_4_4922_07A_l.jpg\n./Images/children_room/LV_04_04_0004_37_l.jpg\n./Images/children_room/VA_04_02_6000_08_l.jpg\n./Images/children_room/VR_06_02_2000_70_l.jpg\n./Images/children_room/fairfield_real_estate_85dogwood_playroom_750_17_.jpg\n./Images/children_room/playroom30_63_.jpg\n./Images/children_room/as_playroom_40_.jpg\n./Images/children_room/AT_98_3_945_14_l.jpg\n./Images/children_room/playroom4_32_.jpg\n./Images/children_room/VA_02_05_7656_19A_l.jpg\n./Images/children_room/100_3520_5_.jpg\n./Images/children_room/AT_04_02_3000_58_l.jpg\n./Images/children_room/playroom12_56_.jpg\n./Images/children_room/OR_03_06_1002_56_l.jpg\n./Images/children_room/portland_114_36_.jpg\n./Images/children_room/507_playroom_8_.jpg\n./Images/children_room/playroom_july_68_.jpg\n./Images/children_room/playroom16_58_.jpg\n./Images/children_room/FW_97_2_0861_19_l.jpg\n./Images/children_room/playroom_1_34_.jpg\n./Images/children_room/children_playroom_12_.jpg\n./Images/children_room/021108_spasticroomjpg_1_.jpg\n./Images/children_room/img_0499_22_.jpg\n./Images/children_room/playroom_decorating_ideas_232_50_.jpg\n./Images/children_room/girlsplayroom_18_.jpg\n./Images/children_room/imgp0662_20_.jpg\n./Images/greenhouse/2026_2006_Grimm_s_Gardens_Greenhouse.jpg\n./Images/greenhouse/finished_inside.jpg\n./Images/greenhouse/invernadero01.jpg\n./Images/greenhouse/greenhousegh1.jpg\n./Images/greenhouse/greenhouse_981.jpg\n./Images/greenhouse/serreyu.jpg\n./Images/greenhouse/53_3.jpg\n./Images/greenhouse/47_Invernadero_1.jpg\n./Images/greenhouse/invernaderos_fotos_015.jpg\n./Images/greenhouse/greenhouse167.jpg\n./Images/greenhouse/20070418klpcnaecl_364_Ies_SCO.jpg\n./Images/greenhouse/greenhouse2123.jpg\n./Images/greenhouse/DSCF0009.jpg\n./Images/greenhouse/dads_greenhouse.jpg\n./Images/greenhouse/ESTUFA.jpg\n./Images/greenhouse/greenhouse2gtr.jpg\n./Images/greenhouse/conservatory_greenhouse_big.jpg\n./Images/greenhouse/Fabricated_Metal_Plastic_Tube_Greenhouse.jpg\n./Images/greenhouse/main.jpg\n./Images/greenhouse/invernadero04.jpg\n./Images/greenhouse/greenhouse203.jpg\n./Images/greenhouse/geranium.jpg\n./Images/greenhouse/paghmist.jpg\n./Images/greenhouse/088_invernadero.jpg\n./Images/greenhouse/Gewaechshaus.jpg\n./Images/greenhouse/hydroponic_greenhouse.jpg\n./Images/greenhouse/greenhouse2ln1.jpg\n./Images/greenhouse/gewaechshaus_4.jpg\n./Images/greenhouse/serre_printemps.jpg\n./Images/greenhouse/greenhousey_2.jpg\n./Images/greenhouse/spr2007_greenhouse_filling_up.jpg\n./Images/greenhouse/greenhousetr_2.jpg\n./Images/greenhouse/greenhouselk2.jpg\n./Images/greenhouse/greenhouse276.jpg\n./Images/greenhouse/Greenhouse_2.jpg\n./Images/greenhouse/fotos2433.jpg\n./Images/greenhouse/greenhouse2yy1.jpg\n./Images/greenhouse/_7CCDF0C3_D08A_420C_8275_8544C0A84D0C_19112003_002.jpg\n./Images/greenhouse/DSCN1239.jpg\n./Images/greenhouse/greenhouse842.jpg\n./Images/greenhouse/greenhouse_1.jpg\n./Images/greenhouse/ART2901025.jpg\n./Images/greenhouse/med_gallery_3601_179_581844.jpg\n./Images/greenhouse/greenhouse3.jpg\n./Images/greenhouse/hortela_nas_estufas_2.jpg\n./Images/greenhouse/747202.jpg\n./Images/greenhouse/segu_est.jpg\n./Images/greenhouse/dscn0088.jpg\n./Images/greenhouse/1412_mb_file_0a8c5.jpg\n./Images/greenhouse/greenhouse_452.jpg\n./Images/greenhouse/url.jpg\n./Images/greenhouse/051011Greenhouse.jpg\n./Images/greenhouse/04_06Greenhouse.jpg\n./Images/greenhouse/ferns4.jpg\n./Images/greenhouse/redwhite.jpg\n./Images/greenhouse/greenhouse_652.jpg\n./Images/greenhouse/greenhouse8.jpg\n./Images/greenhouse/greenhouseikjj2.jpg\n./Images/greenhouse/greenhouse_l.jpg\n./Images/greenhouse/bob_black_greenhouse.jpg\n./Images/greenhouse/serre_4.jpg\n./Images/greenhouse/greenhouse9.jpg\n./Images/greenhouse/AMFWTOaa.jpg\n./Images/greenhouse/horti_estufa.jpg\n./Images/greenhouse/greenhouse042.jpg\n./Images/greenhouse/DSC00024.jpg\n./Images/greenhouse/Pic_4748_33.jpg\n./Images/greenhouse/greenhouse123.jpg\n./Images/greenhouse/celosie_02.jpg\n./Images/greenhouse/invernadero_1111.jpg\n./Images/greenhouse/2_wallington_greenhouse_470x353.jpg\n./Images/greenhouse/greenhouse_009.jpg\n./Images/greenhouse/invernadero_2.jpg\n./Images/greenhouse/site_estufa_04.jpg\n./Images/greenhouse/greenhouse_fullgrowth.jpg\n./Images/greenhouse/20070417klpcnatun_229_Ies_SCO.jpg\n./Images/greenhouse/invernadero_1.jpg\n./Images/greenhouse/invernaderos_fotos_020.jpg\n./Images/greenhouse/greenhouse98.jpg\n./Images/greenhouse/letter_greenhouse.jpg\n./Images/greenhouse/green01.jpg\n./Images/greenhouse/greenhouse_pics_019.jpg\n./Images/greenhouse/invernadero1112.jpg\n./Images/greenhouse/Riverview08.jpg\n./Images/greenhouse/invernadero_flores2.jpg\n./Images/greenhouse/site_estufa_03.jpg\n./Images/greenhouse/site_estufa_02.jpg\n./Images/greenhouse/serre.jpg\n./Images/greenhouse/Invernadero.jpg\n./Images/greenhouse/jardin_celeste_nouv.jpg\n./Images/greenhouse/greenhouseoi1.jpg\n./Images/greenhouse/greenhouse2iu1.jpg\n./Images/greenhouse/BA_Greenhouse.jpg\n./Images/greenhouse/Estufa_178.jpg\n./Images/greenhouse/greenhouse2_1.jpg\n./Images/greenhouse/Greenhouse632.jpg\n./Images/greenhouse/greenhouse6789.jpg\n./Images/greenhouse/inverna_izq_full.jpg\n./Images/greenhouse/hydroponic_greenhouse_1.jpg\n./Images/greenhouse/greenhouse_main.jpg\n./Images/bakery/boulangerie_16_09_altavista.jpg\n./Images/bakery/panaderia_05_09_yahoo.jpg\n./Images/bakery/new_bakery_51_01_altavista.jpg\n./Images/bakery/classic_bakery_04_09_altavista.jpg\n./Images/bakery/panetteria_01_05_altavista.jpg\n./Images/bakery/boulangerie_14_06_altavista.jpg\n./Images/bakery/new_bakery_15_05_altavista.jpg\n./Images/bakery/Northfield.jpg\n./Images/bakery/boulangerie_32_14_altavista.jpg\n./Images/bakery/boulangerie_47_07_yahoo.jpg\n./Images/bakery/boulangerie_12_13_yahoo.jpg\n./Images/bakery/best_bakery_04_15_altavista.jpg\n./Images/bakery/bakery_21_05_yahoo.jpg\n./Images/bakery/boulangerie_43_10_yahoo.jpg\n./Images/bakery/panaderia_27_16_yahoo.jpg\n./Images/bakery/boulangerie_07_07_yahoo.jpg\n./Images/bakery/panaderia_17_09_yahoo.jpg\n./Images/bakery/bakery_12_19_yahoo.jpg\n./Images/bakery/best_bakery_01_08_altavista.jpg\n./Images/bakery/boulangerie_50_11_altavista.jpg\n./Images/bakery/panetteria_03_19_altavista.jpg\n./Images/bakery/panetteria_01_01_altavista.jpg\n./Images/bakery/bakery_37_06_yahoo.jpg\n./Images/bakery/panaderia_30_13_yahoo.jpg\n./Images/bakery/panaderia_11_11_altavista.jpg\n./Images/bakery/boulangerie_13_20_yahoo.jpg\n./Images/bakery/panaderia_40_18_yahoo.jpg\n./Images/bakery/panaderia_36_15_yahoo.jpg\n./Images/bakery/panaderia_34_10_yahoo.jpg\n./Images/bakery/bakery_02_11_yahoo.jpg\n./Images/bakery/boulangerie_36_07_yahoo.jpg\n./Images/bakery/Boulangerie_2_juin_2004.jpg\n./Images/bakery/panaderia_04_02_yahoo.jpg\n./Images/bakery/boulangerie_16_09_yahoo.jpg\n./Images/bakery/new_bakery_23_03_altavista.jpg\n./Images/bakery/boulangerie_31_07_yahoo.jpg\n./Images/bakery/boulangerie_04_12_altavista.jpg\n./Images/bakery/bakery_05_11_yahoo.jpg\n./Images/bakery/best_bakery_15_08_altavista.jpg\n./Images/bakery/panaderia_buenos_aires_01_11_altavista.jpg\n./Images/bakery/boulangerie_25_20_yahoo.jpg\n./Images/bakery/bakery_01_06_yahoo.jpg\n./Images/bakery/boulangerie_21_06_altavista.jpg\n./Images/bakery/boulangerie_39_08_yahoo.jpg\n./Images/bakery/bakery_03_03_yahoo.jpg\n./Images/bakery/panaderia_41_02_altavista.jpg\n./Images/bakery/bakery_21_08_yahoo.jpg\n./Images/bakery/la_brea_bakery_interior_perkis.jpg\n./Images/bakery/new_bakery_05_02_altavista.jpg\n./Images/bakery/new_bakery_26_09_altavista.jpg\n./Images/bakery/panaderia_49_08_yahoo.jpg\n./Images/bakery/boulangerie_07_07_altavista.jpg\n./Images/bakery/bakery_10_17_altavista.jpg\n./Images/bakery/best_bakery_08_07_altavista.jpg\n./Images/bakery/bakery_22_21_yahoo.jpg\n./Images/bakery/boulangerie_01_07_yahoo.jpg\n./Images/bakery/new_bakery_45_11_altavista.jpg\n./Images/bakery/bakery_14_19_yahoo.jpg\n./Images/bakery/panaderia_19_12_yahoo.jpg\n./Images/bakery/panaderia_36_07_yahoo.jpg\n./Images/bakery/boulangerie_51_02_yahoo.jpg\n./Images/bakery/boulangerie_12_20_yahoo.jpg\n./Images/bakery/boulangerie_47_14_altavista.jpg\n./Images/bakery/panaderia_30_15_yahoo.jpg\n./Images/bakery/panaderia_32_10_yahoo.jpg\n./Images/bakery/panaderia_49_03_yahoo.jpg\n./Images/bakery/bakery_19_13_yahoo.jpg\n./Images/bakery/bakery_08_04_yahoo.jpg\n./Images/bakery/new_bakery_01_11_altavista.jpg\n./Images/bakery/panaderia_04_09_yahoo.jpg\n./Images/bakery/bakery_01_19_yahoo.jpg\n./Images/bakery/panaderia_29_19_yahoo.jpg\n./Images/bakery/boulangerie_19_19_yahoo.jpg\n./Images/bakery/bakery_23_12_yahoo.jpg\n./Images/bakery/boulangerie_34_09_yahoo.jpg\n./Images/bakery/bakery_23_06_yahoo.jpg\n./Images/bakery/town_bakery_03_07_altavista.jpg\n./Images/bakery/boulangerie_10_10_yahoo.jpg\n./Images/bakery/bakery_24_06_yahoo.jpg\n./Images/bakery/bakery_04_08_yahoo.jpg\n./Images/bakery/bakery8.jpg\n./Images/bakery/bakery_14_14_yahoo.jpg\n./Images/bakery/boulangerie_10_15_altavista.jpg\n./Images/bakery/bakery_17_17_yahoo.jpg\n./Images/bakery/bakery_13_14_yahoo.jpg\n./Images/bakery/bakery_04_03_altavista.jpg\n./Images/bakery/boulangerie_08_03_yahoo.jpg\n./Images/bakery/boulangerie_35_01_altavista.jpg\n./Images/bakery/new_bakery_12_10_altavista.jpg\n./Images/bakery/boulangerie2_kayser_sm.jpg\n./Images/bakery/panaderia_13_15_yahoo.jpg\n./Images/bakery/bakery_01_09_altavista.jpg\n./Images/bakery/boulangerie_36_03_altavista.jpg\n./Images/bakery/famous_bakery_18_07_altavista.jpg\n./Images/bakery/bakery_01_14_yahoo.jpg\n./Images/bakery/new_bakery_16_13_altavista.jpg\n./Images/bakery/panaderia_28_06_yahoo.jpg\n./Images/bakery/panaderia_05_16_yahoo.jpg\n./Images/bakery/bakery_02_03_yahoo.jpg\n./Images/bakery/panaderia_14_20_yahoo.jpg\n./Images/bakery/boulangerie_32_16_yahoo.jpg\n./Images/bakery/bakery_09_11_yahoo.jpg\n./Images/bakery/boulangerie_06_21_yahoo.jpg\n./Images/bakery/boulangerie.jpg\n./Images/bakery/bakery_21_04_yahoo.jpg\n./Images/bakery/boulangerie_17_17_yahoo.jpg\n./Images/bakery/panetteria_03_07_altavista.jpg\n./Images/bakery/bakery_21_10_yahoo.jpg\n./Images/bakery/boulangerie_17_03_yahoo.jpg\n./Images/bakery/best_bakery_02_07_altavista.jpg\n./Images/bakery/boulangerie_12_06_yahoo.jpg\n./Images/bakery/boulangerie_11_12_altavista.jpg\n./Images/bakery/bakery_07_18_yahoo.jpg\n./Images/bakery/boulangerie_30_12_altavista.jpg\n./Images/bakery/boulangerie_14_21_yahoo.jpg\n./Images/bakery/boulangerie_10_08_altavista.jpg\n./Images/bakery/new_bakery_33_09_altavista.jpg\n./Images/bakery/bakery_17_09_yahoo.jpg\n./Images/bakery/panaderia_18_07_yahoo.jpg\n./Images/bakery/boulangerie_51_11_yahoo.jpg\n./Images/bakery/panaderia_36_14_yahoo.jpg\n./Images/bakery/boulangerie_07_12_yahoo.jpg\n./Images/bakery/panaderia_34_11_yahoo.jpg\n./Images/bakery/bakery_06_06_altavista.jpg\n./Images/bakery/boulangerie_07_06_yahoo.jpg\n./Images/bakery/boulangerie_27_08_yahoo.jpg\n./Images/bakery/bakery_06_11_altavista.jpg\n./Images/bakery/panaderia_40_21_yahoo.jpg\n./Images/bakery/panaderia_40_06_altavista.jpg\n./Images/bakery/boulangerie_36_12_yahoo.jpg\n./Images/bakery/boulangerie_19_13_yahoo.jpg\n./Images/bakery/MagrudersBakery3.jpg\n./Images/bakery/panaderia_21_08_yahoo.jpg\n./Images/bakery/panaderia_01_06_yahoo.jpg\n./Images/bakery/new_bakery_02_20_altavista.jpg\n./Images/bakery/boulangerie_26_17_yahoo.jpg\n./Images/bakery/panaderia_17_11_yahoo.jpg\n./Images/bakery/bakery.jpg\n./Images/bakery/boulangerie_08_04_yahoo.jpg\n./Images/bakery/classic_bakery_08_16_altavista.jpg\n./Images/bakery/famous_bakery_17_20_altavista.jpg\n./Images/bakery/new_bakery_18_13_altavista.jpg\n./Images/bakery/panaderia_16_03_yahoo.jpg\n./Images/bakery/boulangerie_51_08_yahoo.jpg\n./Images/bakery/bakery_07_20_yahoo.jpg\n./Images/bakery/famous_bakery_17_19_altavista.jpg\n./Images/bakery/boulangerie_05_05_altavista.jpg\n./Images/bakery/bakery_32_04_yahoo.jpg\n./Images/bakery/panaderia_44_02_altavista.jpg\n./Images/bakery/panaderia_32_11_yahoo.jpg\n./Images/bakery/panaderia_18_03_altavista.jpg\n./Images/bakery/bakery_16_09_yahoo.jpg\n./Images/bakery/bakery_14_18_yahoo.jpg\n./Images/bakery/boulangerie_01_06_yahoo.jpg\n./Images/bakery/boulangerie_50_05_yahoo.jpg\n./Images/bakery/panaderia_43_08_yahoo.jpg\n./Images/bakery/boulangerie_51_03_yahoo.jpg\n./Images/bakery/bakery_32_10_yahoo.jpg\n./Images/bakery/bakery_21_02_yahoo.jpg\n./Images/bakery/panaderia_27_11_yahoo.jpg\n./Images/bakery/bakery_26_02_yahoo.jpg\n./Images/bakery/LepetitBakery.jpg\n./Images/bakery/boulangerie_46_06_yahoo.jpg\n./Images/bakery/panaderia_45_18_altavista.jpg\n./Images/bakery/bakery_01_18_yahoo.jpg\n./Images/bakery/new_bakery_42_19_altavista.jpg\n./Images/bakery/bakery_23_13_yahoo.jpg\n"
    }
   ],
   "metadata": {},
   "execution_count": 2
  },
  {
   "source": [
    "len(X)"
   ],
   "cell_type": "code",
   "outputs": [],
   "metadata": {},
   "execution_count": 0
  },
  {
   "source": [
    "# Test X\n",
    "X"
   ],
   "cell_type": "code",
   "outputs": [],
   "metadata": {},
   "execution_count": 0
  },
  {
   "source": [
    "# Test y\n",
    "y"
   ],
   "cell_type": "code",
   "outputs": [],
   "metadata": {},
   "execution_count": 0
  },
  {
   "source": [
    "data"
   ],
   "cell_type": "code",
   "outputs": [],
   "metadata": {},
   "execution_count": 0
  },
  {
   "source": [
    "np.save('X.npy', X)\n",
    "np.save('y.npy', y)\n",
    "np.save('data.npy', data)"
   ],
   "cell_type": "code",
   "outputs": [],
   "metadata": {},
   "execution_count": 0
  },
  {
   "cell_type": "code",
   "execution_count": null,
   "metadata": {},
   "outputs": [],
   "source": []
  }
 ],
 "metadata": {
  "kernelspec": {
   "display_name": "Python 3.7.3 64-bit",
   "language": "python",
   "name": "python37364bit230750f2ffa44fbfaec87aca222121f5"
  },
  "language_info": {
   "codemirror_mode": {
    "name": "ipython",
    "version": 3
   },
   "file_extension": ".py",
   "mimetype": "text/x-python",
   "name": "python",
   "nbconvert_exporter": "python",
   "pygments_lexer": "ipython3",
   "version": "3.7.3-final"
  }
 },
 "nbformat": 4,
 "nbformat_minor": 2
}