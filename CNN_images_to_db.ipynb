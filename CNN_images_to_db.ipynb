{
 "cells": [
  {
   "source": [
    "# Python program to create \n",
    "# Image Classifier using CNN \n",
    "  \n",
    "# Importing the required libraries \n",
    "import cv2 \n",
    "import os \n",
    "import numpy as np \n",
    "from random import shuffle \n",
    "from tqdm import tqdm "
   ],
   "cell_type": "code",
   "outputs": [],
   "metadata": {},
   "execution_count": 0
  },
  {
   "cell_type": "markdown",
   "metadata": {},
   "source": [
    "# Image database to Array Database"
   ]
  },
  {
   "cell_type": "markdown",
   "metadata": {},
   "source": [
    "## Loop to transform the database of all images to arrays database"
   ]
  },
  {
   "source": [
    "import os\n",
    "from tensorflow.keras.preprocessing import image\n",
    "from tensorflow.keras.preprocessing.image import img_to_array\n",
    "\n",
    "# Path for looking all jpg files\n",
    "path = './Images/'\n",
    "\n",
    "# All path files for jpg files contained in the files list\n",
    "files = []\n",
    "# r=root, d=directories, f = files\n",
    "for r, d, f in os.walk(path):\n",
    "    for file in f:\n",
    "        if '.jpg' in file:\n",
    "            if 'gif' not in file:\n",
    "                if 'bar_0527.jpg' not in file:\n",
    "                    files.append(os.path.join(r, file))\n",
    "\n",
    "# Use it for testing the code. It limits the files to 10 files\n",
    "# files = files[0:10]\n",
    "\n",
    "# Convert all images in a Database\n",
    "data = []\n",
    "X = []\n",
    "y = []\n",
    "for f in files:\n",
    "    print(f)\n",
    "    # Import the Image\n",
    "    filepath = f\n",
    "    image_size = 50\n",
    "    LR = 1e-3\n",
    "    # img = cv2.imread(filepath, cv2.IMREAD_GRAYSCALE) \n",
    "    img = cv2.imread(filepath, 0) \n",
    "    img = cv2.resize(img, (image_size, image_size))\n",
    "    X.append(img)\n",
    "    # Extract the folder name from each path\n",
    "    # Get the directory name from the specified path \n",
    "    dirname = os.path.dirname(filepath)\n",
    "    # Replace the initial part of the folder to leave just the folder name\n",
    "    dirname = dirname.replace(\"./Images/\", \"\")\n",
    "    y.append(dirname)\n",
    "    data.append([np.array(X),np.array(y)])\n",
    "\n",
    "# suffle(data)"
   ],
   "cell_type": "code",
   "outputs": [],
   "metadata": {},
   "execution_count": 0
  },
  {
   "source": [
    "len(X)"
   ],
   "cell_type": "code",
   "outputs": [],
   "metadata": {},
   "execution_count": 0
  },
  {
   "source": [
    "# Test X\n",
    "X"
   ],
   "cell_type": "code",
   "outputs": [],
   "metadata": {},
   "execution_count": 0
  },
  {
   "source": [
    "# Test y\n",
    "y"
   ],
   "cell_type": "code",
   "outputs": [],
   "metadata": {},
   "execution_count": 0
  },
  {
   "source": [
    "data"
   ],
   "cell_type": "code",
   "outputs": [],
   "metadata": {},
   "execution_count": 0
  },
  {
   "source": [
    "np.save('X.npy', X)\n",
    "np.save('y.npy', y)\n",
    "np.save('data.npy', data)"
   ],
   "cell_type": "code",
   "outputs": [],
   "metadata": {},
   "execution_count": 0
  },
  {
   "cell_type": "code",
   "execution_count": null,
   "metadata": {},
   "outputs": [],
   "source": []
  }
 ],
 "metadata": {
  "kernelspec": {
   "display_name": "Python 3.7.3 64-bit ('python37': conda)",
   "language": "python",
   "name": "python37364bitpython37condab2ddadb2e2604623b8e2610b04b3d46a"
  },
  "language_info": {
   "codemirror_mode": {
    "name": "ipython",
    "version": 3
   },
   "file_extension": ".py",
   "mimetype": "text/x-python",
   "name": "python",
   "nbconvert_exporter": "python",
   "pygments_lexer": "ipython3",
   "version": "3.7.3-final"
  }
 },
 "nbformat": 4,
 "nbformat_minor": 2
}